{
  "cells": [
    {
      "cell_type": "code",
      "execution_count": 8,
      "metadata": {
        "id": "33833926"
      },
      "outputs": [],
      "source": [
        "import numpy as np              # Массивы (матрицы, векторы, линейная алгебра)\n",
        "import matplotlib.pyplot as plt # Научная графика\n",
        "%matplotlib inline \n",
        "    # Говорим jupyter'у, чтобы весь графический вывод был в браузере, а не в отдельном окне\n",
        "import pandas as pd             # Таблицы и временные ряды (dataframe, series)\n",
        "import seaborn as sns           # Еще больше красивой графики для визуализации данных\n",
        "import sklearn                  # Алгоритмы машинного обучения"
      ],
      "id": "33833926"
    },
    {
      "cell_type": "markdown",
      "metadata": {
        "id": "d73d389f"
      },
      "source": [
        "# Прогноз погоды на завтра в австралии"
      ],
      "id": "d73d389f"
    },
    {
      "cell_type": "markdown",
      "metadata": {
        "id": "b319e0e8"
      },
      "source": [
        "Предположим, что вы находитесь в Австралии и хотите узнать, будет ли завтра дождь."
      ],
      "id": "b319e0e8"
    },
    {
      "cell_type": "markdown",
      "metadata": {
        "id": "61dd4087"
      },
      "source": [
        "## Загружаем данные"
      ],
      "id": "61dd4087"
    },
    {
      "cell_type": "code",
      "execution_count": 9,
      "metadata": {
        "id": "0b23cd64"
      },
      "outputs": [],
      "source": [
        "url = \"https://raw.githubusercontent.com/stasyurin/machine_learning_2021/master/Classification_task/data/weatherAUS.csv\"\n",
        "data = pd.read_csv(url)"
      ],
      "id": "0b23cd64"
    },
    {
      "cell_type": "markdown",
      "metadata": {
        "id": "3bc7f8cf"
      },
      "source": [
        "Таблица содержит данные о ежедневных наблюденях за погодой из многих мест по всей Австралии на протяжении 10 лет."
      ],
      "id": "3bc7f8cf"
    },
    {
      "cell_type": "markdown",
      "metadata": {
        "id": "d109c85b"
      },
      "source": [
        "Размеры таблицы:"
      ],
      "id": "d109c85b"
    },
    {
      "cell_type": "code",
      "execution_count": 10,
      "metadata": {
        "colab": {
          "base_uri": "https://localhost:8080/"
        },
        "id": "ee391bb8",
        "outputId": "a8d33338-d1ec-4e72-b005-11ab91083e46"
      },
      "outputs": [
        {
          "output_type": "execute_result",
          "data": {
            "text/plain": [
              "(145460, 23)"
            ]
          },
          "metadata": {},
          "execution_count": 10
        }
      ],
      "source": [
        "data.shape"
      ],
      "id": "ee391bb8"
    },
    {
      "cell_type": "code",
      "execution_count": 11,
      "metadata": {
        "colab": {
          "base_uri": "https://localhost:8080/",
          "height": 357
        },
        "id": "kzoW2m6voefd",
        "outputId": "9c0cb5f0-b13c-4013-d27b-1a0c309196f2"
      },
      "outputs": [
        {
          "output_type": "execute_result",
          "data": {
            "text/html": [
              "\n",
              "  <div id=\"df-eecad33c-ed25-476c-941f-ef0179f6ff67\">\n",
              "    <div class=\"colab-df-container\">\n",
              "      <div>\n",
              "<style scoped>\n",
              "    .dataframe tbody tr th:only-of-type {\n",
              "        vertical-align: middle;\n",
              "    }\n",
              "\n",
              "    .dataframe tbody tr th {\n",
              "        vertical-align: top;\n",
              "    }\n",
              "\n",
              "    .dataframe thead th {\n",
              "        text-align: right;\n",
              "    }\n",
              "</style>\n",
              "<table border=\"1\" class=\"dataframe\">\n",
              "  <thead>\n",
              "    <tr style=\"text-align: right;\">\n",
              "      <th></th>\n",
              "      <th>Date</th>\n",
              "      <th>Location</th>\n",
              "      <th>MinTemp</th>\n",
              "      <th>MaxTemp</th>\n",
              "      <th>Rainfall</th>\n",
              "      <th>Evaporation</th>\n",
              "      <th>Sunshine</th>\n",
              "      <th>WindGustDir</th>\n",
              "      <th>WindGustSpeed</th>\n",
              "      <th>WindDir9am</th>\n",
              "      <th>WindDir3pm</th>\n",
              "      <th>WindSpeed9am</th>\n",
              "      <th>WindSpeed3pm</th>\n",
              "      <th>Humidity9am</th>\n",
              "      <th>Humidity3pm</th>\n",
              "      <th>Pressure9am</th>\n",
              "      <th>Pressure3pm</th>\n",
              "      <th>Cloud9am</th>\n",
              "      <th>Cloud3pm</th>\n",
              "      <th>Temp9am</th>\n",
              "      <th>Temp3pm</th>\n",
              "      <th>RainToday</th>\n",
              "      <th>RainTomorrow</th>\n",
              "    </tr>\n",
              "  </thead>\n",
              "  <tbody>\n",
              "    <tr>\n",
              "      <th>0</th>\n",
              "      <td>2008-12-01</td>\n",
              "      <td>Albury</td>\n",
              "      <td>13.4</td>\n",
              "      <td>22.9</td>\n",
              "      <td>0.6</td>\n",
              "      <td>NaN</td>\n",
              "      <td>NaN</td>\n",
              "      <td>W</td>\n",
              "      <td>44.0</td>\n",
              "      <td>W</td>\n",
              "      <td>WNW</td>\n",
              "      <td>20.0</td>\n",
              "      <td>24.0</td>\n",
              "      <td>71.0</td>\n",
              "      <td>22.0</td>\n",
              "      <td>1007.7</td>\n",
              "      <td>1007.1</td>\n",
              "      <td>8.0</td>\n",
              "      <td>NaN</td>\n",
              "      <td>16.9</td>\n",
              "      <td>21.8</td>\n",
              "      <td>No</td>\n",
              "      <td>No</td>\n",
              "    </tr>\n",
              "    <tr>\n",
              "      <th>1</th>\n",
              "      <td>2008-12-02</td>\n",
              "      <td>Albury</td>\n",
              "      <td>7.4</td>\n",
              "      <td>25.1</td>\n",
              "      <td>0.0</td>\n",
              "      <td>NaN</td>\n",
              "      <td>NaN</td>\n",
              "      <td>WNW</td>\n",
              "      <td>44.0</td>\n",
              "      <td>NNW</td>\n",
              "      <td>WSW</td>\n",
              "      <td>4.0</td>\n",
              "      <td>22.0</td>\n",
              "      <td>44.0</td>\n",
              "      <td>25.0</td>\n",
              "      <td>1010.6</td>\n",
              "      <td>1007.8</td>\n",
              "      <td>NaN</td>\n",
              "      <td>NaN</td>\n",
              "      <td>17.2</td>\n",
              "      <td>24.3</td>\n",
              "      <td>No</td>\n",
              "      <td>No</td>\n",
              "    </tr>\n",
              "    <tr>\n",
              "      <th>2</th>\n",
              "      <td>2008-12-03</td>\n",
              "      <td>Albury</td>\n",
              "      <td>12.9</td>\n",
              "      <td>25.7</td>\n",
              "      <td>0.0</td>\n",
              "      <td>NaN</td>\n",
              "      <td>NaN</td>\n",
              "      <td>WSW</td>\n",
              "      <td>46.0</td>\n",
              "      <td>W</td>\n",
              "      <td>WSW</td>\n",
              "      <td>19.0</td>\n",
              "      <td>26.0</td>\n",
              "      <td>38.0</td>\n",
              "      <td>30.0</td>\n",
              "      <td>1007.6</td>\n",
              "      <td>1008.7</td>\n",
              "      <td>NaN</td>\n",
              "      <td>2.0</td>\n",
              "      <td>21.0</td>\n",
              "      <td>23.2</td>\n",
              "      <td>No</td>\n",
              "      <td>No</td>\n",
              "    </tr>\n",
              "    <tr>\n",
              "      <th>3</th>\n",
              "      <td>2008-12-04</td>\n",
              "      <td>Albury</td>\n",
              "      <td>9.2</td>\n",
              "      <td>28.0</td>\n",
              "      <td>0.0</td>\n",
              "      <td>NaN</td>\n",
              "      <td>NaN</td>\n",
              "      <td>NE</td>\n",
              "      <td>24.0</td>\n",
              "      <td>SE</td>\n",
              "      <td>E</td>\n",
              "      <td>11.0</td>\n",
              "      <td>9.0</td>\n",
              "      <td>45.0</td>\n",
              "      <td>16.0</td>\n",
              "      <td>1017.6</td>\n",
              "      <td>1012.8</td>\n",
              "      <td>NaN</td>\n",
              "      <td>NaN</td>\n",
              "      <td>18.1</td>\n",
              "      <td>26.5</td>\n",
              "      <td>No</td>\n",
              "      <td>No</td>\n",
              "    </tr>\n",
              "    <tr>\n",
              "      <th>4</th>\n",
              "      <td>2008-12-05</td>\n",
              "      <td>Albury</td>\n",
              "      <td>17.5</td>\n",
              "      <td>32.3</td>\n",
              "      <td>1.0</td>\n",
              "      <td>NaN</td>\n",
              "      <td>NaN</td>\n",
              "      <td>W</td>\n",
              "      <td>41.0</td>\n",
              "      <td>ENE</td>\n",
              "      <td>NW</td>\n",
              "      <td>7.0</td>\n",
              "      <td>20.0</td>\n",
              "      <td>82.0</td>\n",
              "      <td>33.0</td>\n",
              "      <td>1010.8</td>\n",
              "      <td>1006.0</td>\n",
              "      <td>7.0</td>\n",
              "      <td>8.0</td>\n",
              "      <td>17.8</td>\n",
              "      <td>29.7</td>\n",
              "      <td>No</td>\n",
              "      <td>No</td>\n",
              "    </tr>\n",
              "  </tbody>\n",
              "</table>\n",
              "</div>\n",
              "      <button class=\"colab-df-convert\" onclick=\"convertToInteractive('df-eecad33c-ed25-476c-941f-ef0179f6ff67')\"\n",
              "              title=\"Convert this dataframe to an interactive table.\"\n",
              "              style=\"display:none;\">\n",
              "        \n",
              "  <svg xmlns=\"http://www.w3.org/2000/svg\" height=\"24px\"viewBox=\"0 0 24 24\"\n",
              "       width=\"24px\">\n",
              "    <path d=\"M0 0h24v24H0V0z\" fill=\"none\"/>\n",
              "    <path d=\"M18.56 5.44l.94 2.06.94-2.06 2.06-.94-2.06-.94-.94-2.06-.94 2.06-2.06.94zm-11 1L8.5 8.5l.94-2.06 2.06-.94-2.06-.94L8.5 2.5l-.94 2.06-2.06.94zm10 10l.94 2.06.94-2.06 2.06-.94-2.06-.94-.94-2.06-.94 2.06-2.06.94z\"/><path d=\"M17.41 7.96l-1.37-1.37c-.4-.4-.92-.59-1.43-.59-.52 0-1.04.2-1.43.59L10.3 9.45l-7.72 7.72c-.78.78-.78 2.05 0 2.83L4 21.41c.39.39.9.59 1.41.59.51 0 1.02-.2 1.41-.59l7.78-7.78 2.81-2.81c.8-.78.8-2.07 0-2.86zM5.41 20L4 18.59l7.72-7.72 1.47 1.35L5.41 20z\"/>\n",
              "  </svg>\n",
              "      </button>\n",
              "      \n",
              "  <style>\n",
              "    .colab-df-container {\n",
              "      display:flex;\n",
              "      flex-wrap:wrap;\n",
              "      gap: 12px;\n",
              "    }\n",
              "\n",
              "    .colab-df-convert {\n",
              "      background-color: #E8F0FE;\n",
              "      border: none;\n",
              "      border-radius: 50%;\n",
              "      cursor: pointer;\n",
              "      display: none;\n",
              "      fill: #1967D2;\n",
              "      height: 32px;\n",
              "      padding: 0 0 0 0;\n",
              "      width: 32px;\n",
              "    }\n",
              "\n",
              "    .colab-df-convert:hover {\n",
              "      background-color: #E2EBFA;\n",
              "      box-shadow: 0px 1px 2px rgba(60, 64, 67, 0.3), 0px 1px 3px 1px rgba(60, 64, 67, 0.15);\n",
              "      fill: #174EA6;\n",
              "    }\n",
              "\n",
              "    [theme=dark] .colab-df-convert {\n",
              "      background-color: #3B4455;\n",
              "      fill: #D2E3FC;\n",
              "    }\n",
              "\n",
              "    [theme=dark] .colab-df-convert:hover {\n",
              "      background-color: #434B5C;\n",
              "      box-shadow: 0px 1px 3px 1px rgba(0, 0, 0, 0.15);\n",
              "      filter: drop-shadow(0px 1px 2px rgba(0, 0, 0, 0.3));\n",
              "      fill: #FFFFFF;\n",
              "    }\n",
              "  </style>\n",
              "\n",
              "      <script>\n",
              "        const buttonEl =\n",
              "          document.querySelector('#df-eecad33c-ed25-476c-941f-ef0179f6ff67 button.colab-df-convert');\n",
              "        buttonEl.style.display =\n",
              "          google.colab.kernel.accessAllowed ? 'block' : 'none';\n",
              "\n",
              "        async function convertToInteractive(key) {\n",
              "          const element = document.querySelector('#df-eecad33c-ed25-476c-941f-ef0179f6ff67');\n",
              "          const dataTable =\n",
              "            await google.colab.kernel.invokeFunction('convertToInteractive',\n",
              "                                                     [key], {});\n",
              "          if (!dataTable) return;\n",
              "\n",
              "          const docLinkHtml = 'Like what you see? Visit the ' +\n",
              "            '<a target=\"_blank\" href=https://colab.research.google.com/notebooks/data_table.ipynb>data table notebook</a>'\n",
              "            + ' to learn more about interactive tables.';\n",
              "          element.innerHTML = '';\n",
              "          dataTable['output_type'] = 'display_data';\n",
              "          await google.colab.output.renderOutput(dataTable, element);\n",
              "          const docLink = document.createElement('div');\n",
              "          docLink.innerHTML = docLinkHtml;\n",
              "          element.appendChild(docLink);\n",
              "        }\n",
              "      </script>\n",
              "    </div>\n",
              "  </div>\n",
              "  "
            ],
            "text/plain": [
              "         Date Location  MinTemp  ...  Temp3pm  RainToday  RainTomorrow\n",
              "0  2008-12-01   Albury     13.4  ...     21.8         No            No\n",
              "1  2008-12-02   Albury      7.4  ...     24.3         No            No\n",
              "2  2008-12-03   Albury     12.9  ...     23.2         No            No\n",
              "3  2008-12-04   Albury      9.2  ...     26.5         No            No\n",
              "4  2008-12-05   Albury     17.5  ...     29.7         No            No\n",
              "\n",
              "[5 rows x 23 columns]"
            ]
          },
          "metadata": {},
          "execution_count": 11
        }
      ],
      "source": [
        "data.head()"
      ],
      "id": "kzoW2m6voefd"
    },
    {
      "cell_type": "markdown",
      "metadata": {
        "id": "0IB9ujVnovl1"
      },
      "source": [
        "Мы видим, что столбцы (признаки) имеют имена\n",
        "\n",
        "- `Date` - Дата наблюдения\n",
        "- `Location` - Общее название места расположения метеостанции\n",
        "- `MinTemp` - Минимальная температура в градусах Цельсия в этот день\n",
        "- `MaxTemp` - Максимальная температура в градусах Цельсия в этот день\n",
        "- `Rainfall` - Количество осадков, выпавших за сутки в мм.\n",
        "- `Evaporation` - Так называемое испарение из эвапорометра класса А (мм) за 24 часа до 9 утра. (*Эвапорометр - устройство измерения общего испарения при одновременном воздействии разных текущих климатических факторов, таких как: температура, влажность, атмосферные осадки, солнечная радиация, ветер*)\n",
        "- `Sunshine` - Количество часов яркого солнечного света в сутки.\n",
        "- `WindGustDir` - Направление самого сильного порыва ветра за 24 часа до полуночи\n",
        "- `WindGustSpeed` - Скорость (км/ч) самого сильного порыва ветра за 24 часа до полуночи\n",
        "- `WindDir9am` - Направление ветра в 9 утра\n",
        "- `WindDir3pm` - Направление ветра в 15:00\n",
        "- `WindSpeed9am` - Средняя скорость ветра (км/ч) за 10 минут до 9:00\n",
        "- `WindSpeed3pm` - Средняя скорость ветра (км/ч) за 10 минут до 15:00\n",
        "- `Humidity9am` - Влажность (в процентах) в 9 утра\n",
        "- `Humidity3pm` - Влажность (в процентах) в 15:00\n",
        "- `Pressure9am` - Атмосферное давление (гПа) на уровне среднего уровня моря в 9:00.\n",
        "- `Pressure3pm` - Атмосферное давление (гПа) на уровне среднего уровня моря в 15:00.\n",
        "- `Cloud9am` - Площадь неба, закрытая облаками в 9 утра. Измеряется в «октах» (часть от восьми). Показатель фиксирует, сколько восьмых неба закрыто облаками. Значение 0 указывает на абсолютно ясное небо, а значение 8 указывает на полную облачность.\n",
        "- `Cloud3pm` - Площадь неба, закрытая облаками в 15:00\n",
        "- `Temp9am` - Температура в градусах Цельсия в 9 утра\n",
        "- `Temp3pm` - Температура в градусах Цельсия в 15:00\n",
        "- `RainToday` - Булево значение: 1, если осадки (мм) за 24 часа до 9:00 превышают 1 мм, в противном случае 0\n",
        "- `RainTomorrow` - Количество осадков на следующий день в мм. Используется для создания переменной ответа RainTomorrow. Своего рода мера «риска».\n",
        "\n",
        "Признаки `RainToday` и `RainTomorrow` - бинарный, признаки `Location`, `WindGustDir`, `WindDir9am`, `WindDir3pm` - номинальные (категориальные), `Date` имеет тип дата, остальные признаки - количественные (числовые).\n",
        "\n",
        "Требуется предсказать бинарный признак `RainTomorrow` по остальным признакам. Это *задача классификации*."
      ],
      "id": "0IB9ujVnovl1"
    },
    {
      "cell_type": "markdown",
      "metadata": {
        "id": "Z0z3uvGm4Mkn"
      },
      "source": [
        "## Готовим данные"
      ],
      "id": "Z0z3uvGm4Mkn"
    },
    {
      "cell_type": "markdown",
      "source": [
        "Чтобы обучение сети не занимало длительное время, сократим количество строк до 10000"
      ],
      "metadata": {
        "id": "M0nPeBvyF-IX"
      },
      "id": "M0nPeBvyF-IX"
    },
    {
      "cell_type": "code",
      "source": [
        "random_subdata = np.random.choice(\n",
        "    np.arange(data.shape[0]), size=10000, replace=False)\n",
        "data = data.iloc[random_subdata]\n",
        "data.shape"
      ],
      "metadata": {
        "colab": {
          "base_uri": "https://localhost:8080/"
        },
        "id": "LdsdhNPFF8sq",
        "outputId": "d9e45d36-7b87-4961-d536-d3f7299ec70c"
      },
      "id": "LdsdhNPFF8sq",
      "execution_count": 12,
      "outputs": [
        {
          "output_type": "execute_result",
          "data": {
            "text/plain": [
              "(10000, 23)"
            ]
          },
          "metadata": {},
          "execution_count": 12
        }
      ]
    },
    {
      "cell_type": "markdown",
      "metadata": {
        "id": "CkWZVUSzAJaM"
      },
      "source": [
        "Приведем столбец `Date` к числовому типу"
      ],
      "id": "CkWZVUSzAJaM"
    },
    {
      "cell_type": "code",
      "execution_count": 13,
      "metadata": {
        "colab": {
          "base_uri": "https://localhost:8080/"
        },
        "id": "bmHhuHykABX9",
        "outputId": "e5b998a6-6665-4002-cc76-685e1faf6e41"
      },
      "outputs": [
        {
          "output_type": "stream",
          "name": "stderr",
          "text": [
            "/usr/local/lib/python3.7/dist-packages/ipykernel_launcher.py:2: SettingWithCopyWarning: \n",
            "A value is trying to be set on a copy of a slice from a DataFrame.\n",
            "Try using .loc[row_indexer,col_indexer] = value instead\n",
            "\n",
            "See the caveats in the documentation: https://pandas.pydata.org/pandas-docs/stable/user_guide/indexing.html#returning-a-view-versus-a-copy\n",
            "  \n",
            "/usr/local/lib/python3.7/dist-packages/ipykernel_launcher.py:3: SettingWithCopyWarning: \n",
            "A value is trying to be set on a copy of a slice from a DataFrame.\n",
            "Try using .loc[row_indexer,col_indexer] = value instead\n",
            "\n",
            "See the caveats in the documentation: https://pandas.pydata.org/pandas-docs/stable/user_guide/indexing.html#returning-a-view-versus-a-copy\n",
            "  This is separate from the ipykernel package so we can avoid doing imports until\n"
          ]
        },
        {
          "output_type": "execute_result",
          "data": {
            "text/plain": [
              "40194      687\n",
              "11680     2742\n",
              "137650    1668\n",
              "117231    2731\n",
              "93010     2859\n",
              "          ... \n",
              "26145     2107\n",
              "112142     562\n",
              "11472     2534\n",
              "145278    2947\n",
              "54426     2453\n",
              "Name: Date, Length: 10000, dtype: int64"
            ]
          },
          "metadata": {},
          "execution_count": 13
        }
      ],
      "source": [
        "from datetime import datetime, timedelta\n",
        "data['Date'] = pd.to_datetime(data['Date'])\n",
        "data['Date'] = data['Date'].sub(datetime(2008, 12, 1), axis=0).dt.days\n",
        "data['Date']"
      ],
      "id": "bmHhuHykABX9"
    },
    {
      "cell_type": "code",
      "execution_count": 14,
      "metadata": {
        "colab": {
          "base_uri": "https://localhost:8080/"
        },
        "id": "U-G0xVJ54SEX",
        "outputId": "560bc3e6-c0c5-4ba9-b39c-d287c24519d0"
      },
      "outputs": [
        {
          "output_type": "stream",
          "name": "stdout",
          "text": [
            "['Location', 'WindGustDir', 'WindDir9am', 'WindDir3pm', 'RainToday', 'RainTomorrow']\n",
            "['Date', 'MinTemp', 'MaxTemp', 'Rainfall', 'Evaporation', 'Sunshine', 'WindGustSpeed', 'WindSpeed9am', 'WindSpeed3pm', 'Humidity9am', 'Humidity3pm', 'Pressure9am', 'Pressure3pm', 'Cloud9am', 'Cloud3pm', 'Temp9am', 'Temp3pm']\n"
          ]
        }
      ],
      "source": [
        "categorical_columns = [c for c in data.columns if data[c].dtype.name == 'object']\n",
        "numerical_columns   = [c for c in data.columns if data[c].dtype.name != 'object']\n",
        "print(categorical_columns)\n",
        "print(numerical_columns)"
      ],
      "id": "U-G0xVJ54SEX"
    },
    {
      "cell_type": "markdown",
      "metadata": {
        "id": "c6541acd"
      },
      "source": [
        "## Боремся с выбросами (outliers)"
      ],
      "id": "c6541acd"
    },
    {
      "cell_type": "code",
      "execution_count": 15,
      "metadata": {
        "colab": {
          "base_uri": "https://localhost:8080/"
        },
        "id": "a9fb366e",
        "outputId": "c24a96d1-dbd4-4abd-ea52-7d295e97900c"
      },
      "outputs": [
        {
          "output_type": "execute_result",
          "data": {
            "text/plain": [
              "(9299, 23)"
            ]
          },
          "metadata": {},
          "execution_count": 15
        }
      ],
      "source": [
        "rows_to_drop = []\n",
        "for column in data.columns:\n",
        "    if (column in categorical_columns):\n",
        "        continue\n",
        "    rows_to_drop += data[(data[column] < data[column].quantile(0.005))\n",
        "    | (data[column] > data[column].quantile(0.995))].index.tolist()\n",
        "data = data.drop(rows_to_drop)\n",
        "data.shape"
      ],
      "id": "a9fb366e"
    },
    {
      "cell_type": "markdown",
      "metadata": {
        "id": "-n83K1zNDasK"
      },
      "source": [
        "Для всех количественных признаков удаление выбросов привело к сокращению количества строк на 145460 - 136606 = 8854 строк"
      ],
      "id": "-n83K1zNDasK"
    },
    {
      "cell_type": "markdown",
      "metadata": {
        "id": "ziHrau8lEhGp"
      },
      "source": [
        "## Визуализация и описательная статистика"
      ],
      "id": "ziHrau8lEhGp"
    },
    {
      "cell_type": "markdown",
      "metadata": {
        "id": "9naiSP3DE5Kt"
      },
      "source": [
        "Матрица корреляции"
      ],
      "id": "9naiSP3DE5Kt"
    },
    {
      "cell_type": "code",
      "execution_count": 16,
      "metadata": {
        "colab": {
          "base_uri": "https://localhost:8080/",
          "height": 339
        },
        "id": "4964b4ef",
        "outputId": "878bab75-4d20-49c4-d546-983e702795b8"
      },
      "outputs": [
        {
          "output_type": "display_data",
          "data": {
            "image/png": "[encoded data removed]",
            "text/plain": [
              "<Figure size 432x288 with 2 Axes>"
            ]
          },
          "metadata": {
            "needs_background": "light"
          }
        }
      ],
      "source": [
        "corr_mat = data.corr()\n",
        "sns.heatmap(corr_mat, square=True, cmap='coolwarm')\n",
        "pass"
      ],
      "id": "4964b4ef"
    },
    {
      "cell_type": "markdown",
      "metadata": {
        "id": "rXTU4ybNFkmr"
      },
      "source": [
        "### Интерпретация\n",
        "- Как видим минимальная температура `MinTemp` достаточно сильно коррелирует с максимальной MaxTemp, что очевидно, так как в жарком дне в среднем и минимальная и максимальная температура будут выше, а в холодном - ниже\n",
        "- Также `MinTemp` и `MaxTemp` коррелируют с Temp9am и Temp3pm, что так же очевидно\n",
        "- `Rainfall` слабо коререлирует с какими либо другими признаками. Наибольшая корреляция с `Humidity9am` и `Humidity3pm` (что очевидно - чем больше осадков, тем сильнее влажность), и с `Cloud9am` и `Cloud3pm` (чем облачнее, тем больше вероятность, что пойдет дождь)\n",
        "- `Evaporation` (количество испарения из эвапорометра) коррелирует со всеми признаками связанными с температурой - чем выше температура, тем интенсивнее жидкость испаряется\n",
        "- `Sunshine` так же коррелирует с признаками связанными с температурой - чем больше солнца, тем выше температура\n",
        "- Признаки скорости ветра коррелируют только между собой, что очевидно так как ни от температуры, ни от давления, ни от других признаков они не зависят\n",
        "- Коррелируют Humidity и Cloud - признаки влажности и облачности, что также связано с выпадением осадков\n",
        "- И корреляция признаков, показывающих давление с другими признаками так же слабая"
      ],
      "id": "rXTU4ybNFkmr"
    },
    {
      "cell_type": "code",
      "execution_count": 17,
      "metadata": {
        "colab": {
          "base_uri": "https://localhost:8080/",
          "height": 364
        },
        "id": "R7cZp-DsJhOQ",
        "outputId": "ad8df04b-ca87-494e-a88a-2e37c9827c03"
      },
      "outputs": [
        {
          "output_type": "execute_result",
          "data": {
            "text/html": [
              "\n",
              "  <div id=\"df-7310f338-89fe-44d2-8ef6-2049432f48d7\">\n",
              "    <div class=\"colab-df-container\">\n",
              "      <div>\n",
              "<style scoped>\n",
              "    .dataframe tbody tr th:only-of-type {\n",
              "        vertical-align: middle;\n",
              "    }\n",
              "\n",
              "    .dataframe tbody tr th {\n",
              "        vertical-align: top;\n",
              "    }\n",
              "\n",
              "    .dataframe thead th {\n",
              "        text-align: right;\n",
              "    }\n",
              "</style>\n",
              "<table border=\"1\" class=\"dataframe\">\n",
              "  <thead>\n",
              "    <tr style=\"text-align: right;\">\n",
              "      <th></th>\n",
              "      <th>Date</th>\n",
              "      <th>MinTemp</th>\n",
              "      <th>MaxTemp</th>\n",
              "      <th>Rainfall</th>\n",
              "      <th>Evaporation</th>\n",
              "      <th>Sunshine</th>\n",
              "      <th>WindGustSpeed</th>\n",
              "      <th>WindSpeed9am</th>\n",
              "      <th>WindSpeed3pm</th>\n",
              "      <th>Humidity9am</th>\n",
              "      <th>Humidity3pm</th>\n",
              "      <th>Pressure9am</th>\n",
              "      <th>Pressure3pm</th>\n",
              "      <th>Cloud9am</th>\n",
              "      <th>Cloud3pm</th>\n",
              "      <th>Temp9am</th>\n",
              "      <th>Temp3pm</th>\n",
              "    </tr>\n",
              "  </thead>\n",
              "  <tbody>\n",
              "    <tr>\n",
              "      <th>count</th>\n",
              "      <td>9299.000000</td>\n",
              "      <td>9195.000000</td>\n",
              "      <td>9222.000000</td>\n",
              "      <td>9090.000000</td>\n",
              "      <td>5260.000000</td>\n",
              "      <td>4803.000000</td>\n",
              "      <td>8632.000000</td>\n",
              "      <td>9192.000000</td>\n",
              "      <td>9086.000000</td>\n",
              "      <td>9148.000000</td>\n",
              "      <td>9005.000000</td>\n",
              "      <td>8353.000000</td>\n",
              "      <td>8364.000000</td>\n",
              "      <td>5656.000000</td>\n",
              "      <td>5411.000000</td>\n",
              "      <td>9188.000000</td>\n",
              "      <td>9052.000000</td>\n",
              "    </tr>\n",
              "    <tr>\n",
              "      <th>mean</th>\n",
              "      <td>1585.954941</td>\n",
              "      <td>12.167417</td>\n",
              "      <td>23.189341</td>\n",
              "      <td>1.983542</td>\n",
              "      <td>5.219867</td>\n",
              "      <td>7.618842</td>\n",
              "      <td>39.383341</td>\n",
              "      <td>13.792211</td>\n",
              "      <td>18.514968</td>\n",
              "      <td>69.134346</td>\n",
              "      <td>51.525486</td>\n",
              "      <td>1017.841626</td>\n",
              "      <td>1015.447310</td>\n",
              "      <td>4.438119</td>\n",
              "      <td>4.518573</td>\n",
              "      <td>16.922355</td>\n",
              "      <td>21.638179</td>\n",
              "    </tr>\n",
              "    <tr>\n",
              "      <th>std</th>\n",
              "      <td>906.852207</td>\n",
              "      <td>6.106759</td>\n",
              "      <td>6.659379</td>\n",
              "      <td>5.627129</td>\n",
              "      <td>3.371433</td>\n",
              "      <td>3.759404</td>\n",
              "      <td>12.509556</td>\n",
              "      <td>8.458473</td>\n",
              "      <td>8.395569</td>\n",
              "      <td>18.199476</td>\n",
              "      <td>20.073558</td>\n",
              "      <td>6.647434</td>\n",
              "      <td>6.567501</td>\n",
              "      <td>2.895478</td>\n",
              "      <td>2.724669</td>\n",
              "      <td>6.115939</td>\n",
              "      <td>6.491200</td>\n",
              "    </tr>\n",
              "    <tr>\n",
              "      <th>min</th>\n",
              "      <td>-98.000000</td>\n",
              "      <td>-2.900000</td>\n",
              "      <td>4.700000</td>\n",
              "      <td>0.000000</td>\n",
              "      <td>0.200000</td>\n",
              "      <td>0.000000</td>\n",
              "      <td>13.000000</td>\n",
              "      <td>0.000000</td>\n",
              "      <td>0.000000</td>\n",
              "      <td>13.000000</td>\n",
              "      <td>6.000000</td>\n",
              "      <td>998.200000</td>\n",
              "      <td>995.800000</td>\n",
              "      <td>0.000000</td>\n",
              "      <td>0.000000</td>\n",
              "      <td>0.700000</td>\n",
              "      <td>3.400000</td>\n",
              "    </tr>\n",
              "    <tr>\n",
              "      <th>25%</th>\n",
              "      <td>779.500000</td>\n",
              "      <td>7.700000</td>\n",
              "      <td>18.200000</td>\n",
              "      <td>0.000000</td>\n",
              "      <td>2.600000</td>\n",
              "      <td>4.900000</td>\n",
              "      <td>31.000000</td>\n",
              "      <td>7.000000</td>\n",
              "      <td>13.000000</td>\n",
              "      <td>57.000000</td>\n",
              "      <td>37.000000</td>\n",
              "      <td>1013.300000</td>\n",
              "      <td>1010.900000</td>\n",
              "      <td>1.000000</td>\n",
              "      <td>2.000000</td>\n",
              "      <td>12.500000</td>\n",
              "      <td>16.800000</td>\n",
              "    </tr>\n",
              "    <tr>\n",
              "      <th>50%</th>\n",
              "      <td>1643.000000</td>\n",
              "      <td>12.100000</td>\n",
              "      <td>22.600000</td>\n",
              "      <td>0.000000</td>\n",
              "      <td>4.600000</td>\n",
              "      <td>8.500000</td>\n",
              "      <td>37.000000</td>\n",
              "      <td>13.000000</td>\n",
              "      <td>17.000000</td>\n",
              "      <td>70.000000</td>\n",
              "      <td>52.000000</td>\n",
              "      <td>1017.800000</td>\n",
              "      <td>1015.400000</td>\n",
              "      <td>5.000000</td>\n",
              "      <td>5.000000</td>\n",
              "      <td>16.600000</td>\n",
              "      <td>21.100000</td>\n",
              "    </tr>\n",
              "    <tr>\n",
              "      <th>75%</th>\n",
              "      <td>2384.000000</td>\n",
              "      <td>16.500000</td>\n",
              "      <td>27.900000</td>\n",
              "      <td>0.800000</td>\n",
              "      <td>7.000000</td>\n",
              "      <td>10.600000</td>\n",
              "      <td>46.000000</td>\n",
              "      <td>19.000000</td>\n",
              "      <td>24.000000</td>\n",
              "      <td>83.000000</td>\n",
              "      <td>65.000000</td>\n",
              "      <td>1022.500000</td>\n",
              "      <td>1020.000000</td>\n",
              "      <td>7.000000</td>\n",
              "      <td>7.000000</td>\n",
              "      <td>21.200000</td>\n",
              "      <td>26.100000</td>\n",
              "    </tr>\n",
              "    <tr>\n",
              "      <th>max</th>\n",
              "      <td>3112.000000</td>\n",
              "      <td>26.600000</td>\n",
              "      <td>41.800000</td>\n",
              "      <td>51.400000</td>\n",
              "      <td>21.600000</td>\n",
              "      <td>13.500000</td>\n",
              "      <td>87.000000</td>\n",
              "      <td>44.000000</td>\n",
              "      <td>46.000000</td>\n",
              "      <td>100.000000</td>\n",
              "      <td>99.000000</td>\n",
              "      <td>1034.900000</td>\n",
              "      <td>1032.700000</td>\n",
              "      <td>8.000000</td>\n",
              "      <td>8.000000</td>\n",
              "      <td>32.400000</td>\n",
              "      <td>40.500000</td>\n",
              "    </tr>\n",
              "  </tbody>\n",
              "</table>\n",
              "</div>\n",
              "      <button class=\"colab-df-convert\" onclick=\"convertToInteractive('df-7310f338-89fe-44d2-8ef6-2049432f48d7')\"\n",
              "              title=\"Convert this dataframe to an interactive table.\"\n",
              "              style=\"display:none;\">\n",
              "        \n",
              "  <svg xmlns=\"http://www.w3.org/2000/svg\" height=\"24px\"viewBox=\"0 0 24 24\"\n",
              "       width=\"24px\">\n",
              "    <path d=\"M0 0h24v24H0V0z\" fill=\"none\"/>\n",
              "    <path d=\"M18.56 5.44l.94 2.06.94-2.06 2.06-.94-2.06-.94-.94-2.06-.94 2.06-2.06.94zm-11 1L8.5 8.5l.94-2.06 2.06-.94-2.06-.94L8.5 2.5l-.94 2.06-2.06.94zm10 10l.94 2.06.94-2.06 2.06-.94-2.06-.94-.94-2.06-.94 2.06-2.06.94z\"/><path d=\"M17.41 7.96l-1.37-1.37c-.4-.4-.92-.59-1.43-.59-.52 0-1.04.2-1.43.59L10.3 9.45l-7.72 7.72c-.78.78-.78 2.05 0 2.83L4 21.41c.39.39.9.59 1.41.59.51 0 1.02-.2 1.41-.59l7.78-7.78 2.81-2.81c.8-.78.8-2.07 0-2.86zM5.41 20L4 18.59l7.72-7.72 1.47 1.35L5.41 20z\"/>\n",
              "  </svg>\n",
              "      </button>\n",
              "      \n",
              "  <style>\n",
              "    .colab-df-container {\n",
              "      display:flex;\n",
              "      flex-wrap:wrap;\n",
              "      gap: 12px;\n",
              "    }\n",
              "\n",
              "    .colab-df-convert {\n",
              "      background-color: #E8F0FE;\n",
              "      border: none;\n",
              "      border-radius: 50%;\n",
              "      cursor: pointer;\n",
              "      display: none;\n",
              "      fill: #1967D2;\n",
              "      height: 32px;\n",
              "      padding: 0 0 0 0;\n",
              "      width: 32px;\n",
              "    }\n",
              "\n",
              "    .colab-df-convert:hover {\n",
              "      background-color: #E2EBFA;\n",
              "      box-shadow: 0px 1px 2px rgba(60, 64, 67, 0.3), 0px 1px 3px 1px rgba(60, 64, 67, 0.15);\n",
              "      fill: #174EA6;\n",
              "    }\n",
              "\n",
              "    [theme=dark] .colab-df-convert {\n",
              "      background-color: #3B4455;\n",
              "      fill: #D2E3FC;\n",
              "    }\n",
              "\n",
              "    [theme=dark] .colab-df-convert:hover {\n",
              "      background-color: #434B5C;\n",
              "      box-shadow: 0px 1px 3px 1px rgba(0, 0, 0, 0.15);\n",
              "      filter: drop-shadow(0px 1px 2px rgba(0, 0, 0, 0.3));\n",
              "      fill: #FFFFFF;\n",
              "    }\n",
              "  </style>\n",
              "\n",
              "      <script>\n",
              "        const buttonEl =\n",
              "          document.querySelector('#df-7310f338-89fe-44d2-8ef6-2049432f48d7 button.colab-df-convert');\n",
              "        buttonEl.style.display =\n",
              "          google.colab.kernel.accessAllowed ? 'block' : 'none';\n",
              "\n",
              "        async function convertToInteractive(key) {\n",
              "          const element = document.querySelector('#df-7310f338-89fe-44d2-8ef6-2049432f48d7');\n",
              "          const dataTable =\n",
              "            await google.colab.kernel.invokeFunction('convertToInteractive',\n",
              "                                                     [key], {});\n",
              "          if (!dataTable) return;\n",
              "\n",
              "          const docLinkHtml = 'Like what you see? Visit the ' +\n",
              "            '<a target=\"_blank\" href=https://colab.research.google.com/notebooks/data_table.ipynb>data table notebook</a>'\n",
              "            + ' to learn more about interactive tables.';\n",
              "          element.innerHTML = '';\n",
              "          dataTable['output_type'] = 'display_data';\n",
              "          await google.colab.output.renderOutput(dataTable, element);\n",
              "          const docLink = document.createElement('div');\n",
              "          docLink.innerHTML = docLinkHtml;\n",
              "          element.appendChild(docLink);\n",
              "        }\n",
              "      </script>\n",
              "    </div>\n",
              "  </div>\n",
              "  "
            ],
            "text/plain": [
              "              Date      MinTemp  ...      Temp9am      Temp3pm\n",
              "count  9299.000000  9195.000000  ...  9188.000000  9052.000000\n",
              "mean   1585.954941    12.167417  ...    16.922355    21.638179\n",
              "std     906.852207     6.106759  ...     6.115939     6.491200\n",
              "min     -98.000000    -2.900000  ...     0.700000     3.400000\n",
              "25%     779.500000     7.700000  ...    12.500000    16.800000\n",
              "50%    1643.000000    12.100000  ...    16.600000    21.100000\n",
              "75%    2384.000000    16.500000  ...    21.200000    26.100000\n",
              "max    3112.000000    26.600000  ...    32.400000    40.500000\n",
              "\n",
              "[8 rows x 17 columns]"
            ]
          },
          "metadata": {},
          "execution_count": 17
        }
      ],
      "source": [
        "data.describe()"
      ],
      "id": "R7cZp-DsJhOQ"
    },
    {
      "cell_type": "markdown",
      "metadata": {
        "id": "581a67ab"
      },
      "source": [
        "##  Обрабатываем пропущенные значения"
      ],
      "id": "581a67ab"
    },
    {
      "cell_type": "markdown",
      "metadata": {
        "id": "bdcd7bab"
      },
      "source": [
        "В данных присутствуют пропущенные значения:"
      ],
      "id": "bdcd7bab"
    },
    {
      "cell_type": "code",
      "execution_count": 18,
      "metadata": {
        "colab": {
          "base_uri": "https://localhost:8080/"
        },
        "id": "f8cbfd3a",
        "outputId": "62ea09d3-4f20-4baa-b7f5-15a2013deb22"
      },
      "outputs": [
        {
          "output_type": "execute_result",
          "data": {
            "text/plain": [
              "Date                0\n",
              "Location            0\n",
              "MinTemp           104\n",
              "MaxTemp            77\n",
              "Rainfall          209\n",
              "Evaporation      4039\n",
              "Sunshine         4496\n",
              "WindGustDir       669\n",
              "WindGustSpeed     667\n",
              "WindDir9am        651\n",
              "WindDir3pm        286\n",
              "WindSpeed9am      107\n",
              "WindSpeed3pm      213\n",
              "Humidity9am       151\n",
              "Humidity3pm       294\n",
              "Pressure9am       946\n",
              "Pressure3pm       935\n",
              "Cloud9am         3643\n",
              "Cloud3pm         3888\n",
              "Temp9am           111\n",
              "Temp3pm           247\n",
              "RainToday         209\n",
              "RainTomorrow      226\n",
              "dtype: int64"
            ]
          },
          "metadata": {},
          "execution_count": 18
        }
      ],
      "source": [
        "data.isna().sum()"
      ],
      "id": "f8cbfd3a"
    },
    {
      "cell_type": "markdown",
      "metadata": {
        "id": "a4f6ddb5"
      },
      "source": [
        "Заполним медианами пропущенные значения в столбцах, соответствующих числовым признакам:"
      ],
      "id": "a4f6ddb5"
    },
    {
      "cell_type": "code",
      "execution_count": 19,
      "metadata": {
        "id": "f2df1aa9"
      },
      "outputs": [],
      "source": [
        "data.fillna(data.median(axis = 0), axis=0 , inplace=True)"
      ],
      "id": "f2df1aa9"
    },
    {
      "cell_type": "code",
      "execution_count": 20,
      "metadata": {
        "colab": {
          "base_uri": "https://localhost:8080/"
        },
        "id": "507bcf57",
        "outputId": "9907ff6c-cb2b-4998-cc8f-c16194bc0188"
      },
      "outputs": [
        {
          "output_type": "execute_result",
          "data": {
            "text/plain": [
              "Date               0\n",
              "Location           0\n",
              "MinTemp            0\n",
              "MaxTemp            0\n",
              "Rainfall           0\n",
              "Evaporation        0\n",
              "Sunshine           0\n",
              "WindGustDir      669\n",
              "WindGustSpeed      0\n",
              "WindDir9am       651\n",
              "WindDir3pm       286\n",
              "WindSpeed9am       0\n",
              "WindSpeed3pm       0\n",
              "Humidity9am        0\n",
              "Humidity3pm        0\n",
              "Pressure9am        0\n",
              "Pressure3pm        0\n",
              "Cloud9am           0\n",
              "Cloud3pm           0\n",
              "Temp9am            0\n",
              "Temp3pm            0\n",
              "RainToday        209\n",
              "RainTomorrow     226\n",
              "dtype: int64"
            ]
          },
          "metadata": {},
          "execution_count": 20
        }
      ],
      "source": [
        "data.isna().sum()"
      ],
      "id": "507bcf57"
    },
    {
      "cell_type": "markdown",
      "metadata": {
        "id": "VkM06monKz5x"
      },
      "source": [
        "Пропущенные значения в столбцах, соответствующих категориальным признакам, заполним модой:"
      ],
      "id": "VkM06monKz5x"
    },
    {
      "cell_type": "code",
      "execution_count": 21,
      "metadata": {
        "id": "nvDdK1o_KjpJ"
      },
      "outputs": [],
      "source": [
        "for c in categorical_columns:\n",
        "    data[c].fillna(data[c].mode().iloc[0], inplace=True)"
      ],
      "id": "nvDdK1o_KjpJ"
    },
    {
      "cell_type": "code",
      "execution_count": 22,
      "metadata": {
        "colab": {
          "base_uri": "https://localhost:8080/"
        },
        "id": "QEZmhzT4K1WY",
        "outputId": "3a3f8d7d-f1e0-40cb-b6c6-96d4810d003c"
      },
      "outputs": [
        {
          "output_type": "execute_result",
          "data": {
            "text/plain": [
              "Date             0\n",
              "Location         0\n",
              "MinTemp          0\n",
              "MaxTemp          0\n",
              "Rainfall         0\n",
              "Evaporation      0\n",
              "Sunshine         0\n",
              "WindGustDir      0\n",
              "WindGustSpeed    0\n",
              "WindDir9am       0\n",
              "WindDir3pm       0\n",
              "WindSpeed9am     0\n",
              "WindSpeed3pm     0\n",
              "Humidity9am      0\n",
              "Humidity3pm      0\n",
              "Pressure9am      0\n",
              "Pressure3pm      0\n",
              "Cloud9am         0\n",
              "Cloud3pm         0\n",
              "Temp9am          0\n",
              "Temp3pm          0\n",
              "RainToday        0\n",
              "RainTomorrow     0\n",
              "dtype: int64"
            ]
          },
          "metadata": {},
          "execution_count": 22
        }
      ],
      "source": [
        "data.isna().sum()"
      ],
      "id": "QEZmhzT4K1WY"
    },
    {
      "cell_type": "markdown",
      "metadata": {
        "id": "9c9e52fd"
      },
      "source": [
        "## Векторизация\n",
        "\n",
        "Обработка категориальных признаков"
      ],
      "id": "9c9e52fd"
    },
    {
      "cell_type": "code",
      "execution_count": 23,
      "metadata": {
        "colab": {
          "base_uri": "https://localhost:8080/"
        },
        "id": "I42fJs4v7QWf",
        "outputId": "e2715aad-0c5a-4077-8b57-df196846ccb3"
      },
      "outputs": [
        {
          "output_type": "stream",
          "name": "stdout",
          "text": [
            "['RainToday', 'RainTomorrow'] ['Location', 'WindGustDir', 'WindDir9am', 'WindDir3pm']\n"
          ]
        }
      ],
      "source": [
        "data_describe = data.describe(include = [object])\n",
        "binary_columns    = [c for c in categorical_columns if data_describe[c]['unique'] == 2]\n",
        "nonbinary_columns = [c for c in categorical_columns if data_describe[c]['unique'] > 2]\n",
        "print(binary_columns, nonbinary_columns)"
      ],
      "id": "I42fJs4v7QWf"
    },
    {
      "cell_type": "code",
      "execution_count": 24,
      "metadata": {
        "colab": {
          "base_uri": "https://localhost:8080/"
        },
        "id": "ilYK5Loh769V",
        "outputId": "8152fe21-921e-41ba-c6e8-79734aa1848d"
      },
      "outputs": [
        {
          "output_type": "execute_result",
          "data": {
            "text/plain": [
              "array(['No', 'Yes'], dtype=object)"
            ]
          },
          "metadata": {},
          "execution_count": 24
        }
      ],
      "source": [
        "data['RainToday'].unique()"
      ],
      "id": "ilYK5Loh769V"
    },
    {
      "cell_type": "code",
      "execution_count": 25,
      "metadata": {
        "colab": {
          "base_uri": "https://localhost:8080/"
        },
        "id": "NTlQIdrq79ZG",
        "outputId": "b34eb533-6751-4280-9ca6-9aaf823e4973"
      },
      "outputs": [
        {
          "output_type": "execute_result",
          "data": {
            "text/plain": [
              "count     9299\n",
              "unique       2\n",
              "top          0\n",
              "freq      7272\n",
              "Name: RainToday, dtype: int64"
            ]
          },
          "metadata": {},
          "execution_count": 25
        }
      ],
      "source": [
        "data.at[data['RainToday'] == 'No', 'RainToday'] = 0\n",
        "data.at[data['RainToday'] == 'Yes', 'RainToday'] = 1\n",
        "data['RainToday'].describe()"
      ],
      "id": "NTlQIdrq79ZG"
    },
    {
      "cell_type": "markdown",
      "metadata": {
        "id": "nmoyID-a8OnH"
      },
      "source": [
        "К небинарными признакам применим метод _векторизации_, \n",
        "который заключается в следующем.\n",
        "\n",
        "Признак `j`, принимающий `s` значений, заменим на `s` признаков, принимащих значения `0` или `1`,\n",
        "в зависимости от того, чему равно значение исходного признака `j`."
      ],
      "id": "nmoyID-a8OnH"
    },
    {
      "cell_type": "code",
      "execution_count": 26,
      "metadata": {
        "colab": {
          "base_uri": "https://localhost:8080/"
        },
        "id": "Z7zb9ep_8PVr",
        "outputId": "df553cbd-0c03-4a61-8616-eeef97fdfc06"
      },
      "outputs": [
        {
          "output_type": "stream",
          "name": "stdout",
          "text": [
            "Index(['Location_Adelaide', 'Location_Albany', 'Location_Albury',\n",
            "       'Location_AliceSprings', 'Location_BadgerysCreek', 'Location_Ballarat',\n",
            "       'Location_Bendigo', 'Location_Brisbane', 'Location_Cairns',\n",
            "       'Location_Canberra', 'Location_Cobar', 'Location_CoffsHarbour',\n",
            "       'Location_Dartmoor', 'Location_Darwin', 'Location_GoldCoast',\n",
            "       'Location_Hobart', 'Location_Katherine', 'Location_Launceston',\n",
            "       'Location_Melbourne', 'Location_MelbourneAirport', 'Location_Mildura',\n",
            "       'Location_Moree', 'Location_MountGambier', 'Location_MountGinini',\n",
            "       'Location_Newcastle', 'Location_Nhil', 'Location_NorahHead',\n",
            "       'Location_NorfolkIsland', 'Location_Nuriootpa', 'Location_PearceRAAF',\n",
            "       'Location_Penrith', 'Location_Perth', 'Location_PerthAirport',\n",
            "       'Location_Portland', 'Location_Richmond', 'Location_Sale',\n",
            "       'Location_SalmonGums', 'Location_Sydney', 'Location_SydneyAirport',\n",
            "       'Location_Townsville', 'Location_Tuggeranong', 'Location_Uluru',\n",
            "       'Location_WaggaWagga', 'Location_Walpole', 'Location_Watsonia',\n",
            "       'Location_Williamtown', 'Location_Witchcliffe', 'Location_Wollongong',\n",
            "       'Location_Woomera', 'WindGustDir_E', 'WindGustDir_ENE',\n",
            "       'WindGustDir_ESE', 'WindGustDir_N', 'WindGustDir_NE', 'WindGustDir_NNE',\n",
            "       'WindGustDir_NNW', 'WindGustDir_NW', 'WindGustDir_S', 'WindGustDir_SE',\n",
            "       'WindGustDir_SSE', 'WindGustDir_SSW', 'WindGustDir_SW', 'WindGustDir_W',\n",
            "       'WindGustDir_WNW', 'WindGustDir_WSW', 'WindDir9am_E', 'WindDir9am_ENE',\n",
            "       'WindDir9am_ESE', 'WindDir9am_N', 'WindDir9am_NE', 'WindDir9am_NNE',\n",
            "       'WindDir9am_NNW', 'WindDir9am_NW', 'WindDir9am_S', 'WindDir9am_SE',\n",
            "       'WindDir9am_SSE', 'WindDir9am_SSW', 'WindDir9am_SW', 'WindDir9am_W',\n",
            "       'WindDir9am_WNW', 'WindDir9am_WSW', 'WindDir3pm_E', 'WindDir3pm_ENE',\n",
            "       'WindDir3pm_ESE', 'WindDir3pm_N', 'WindDir3pm_NE', 'WindDir3pm_NNE',\n",
            "       'WindDir3pm_NNW', 'WindDir3pm_NW', 'WindDir3pm_S', 'WindDir3pm_SE',\n",
            "       'WindDir3pm_SSE', 'WindDir3pm_SSW', 'WindDir3pm_SW', 'WindDir3pm_W',\n",
            "       'WindDir3pm_WNW', 'WindDir3pm_WSW'],\n",
            "      dtype='object')\n"
          ]
        }
      ],
      "source": [
        "data_nonbinary = pd.get_dummies(data[nonbinary_columns])\n",
        "print(data_nonbinary.columns)"
      ],
      "id": "Z7zb9ep_8PVr"
    },
    {
      "cell_type": "markdown",
      "metadata": {
        "id": "WJIPyddz8wsZ"
      },
      "source": [
        "## Нормализация количественных признаков\n",
        "\n",
        "Многие алгоритмы машинного обучения чувствительны к масштабированию данных.\n",
        "К таким алгоритмам, например, относится метод ближайших соседей, машина опорных векторов и др.\n",
        "\n",
        "В этом случае количественные признаки полезно _нормализовать_.\n",
        "Это можно делать разными способами.\n",
        "Например, каждый количественный признак приведем к нулевому среднему и единичному среднеквадратичному отклонению:"
      ],
      "id": "WJIPyddz8wsZ"
    },
    {
      "cell_type": "code",
      "execution_count": 27,
      "metadata": {
        "colab": {
          "base_uri": "https://localhost:8080/",
          "height": 364
        },
        "id": "kUyJXKPh8-4J",
        "outputId": "bc37504d-5a36-4b9d-9aa0-59dfb85040b4"
      },
      "outputs": [
        {
          "output_type": "execute_result",
          "data": {
            "text/html": [
              "\n",
              "  <div id=\"df-c6107aca-c8bb-4d10-b314-5695e338ed52\">\n",
              "    <div class=\"colab-df-container\">\n",
              "      <div>\n",
              "<style scoped>\n",
              "    .dataframe tbody tr th:only-of-type {\n",
              "        vertical-align: middle;\n",
              "    }\n",
              "\n",
              "    .dataframe tbody tr th {\n",
              "        vertical-align: top;\n",
              "    }\n",
              "\n",
              "    .dataframe thead th {\n",
              "        text-align: right;\n",
              "    }\n",
              "</style>\n",
              "<table border=\"1\" class=\"dataframe\">\n",
              "  <thead>\n",
              "    <tr style=\"text-align: right;\">\n",
              "      <th></th>\n",
              "      <th>Date</th>\n",
              "      <th>MinTemp</th>\n",
              "      <th>MaxTemp</th>\n",
              "      <th>Rainfall</th>\n",
              "      <th>Evaporation</th>\n",
              "      <th>Sunshine</th>\n",
              "      <th>WindGustSpeed</th>\n",
              "      <th>WindSpeed9am</th>\n",
              "      <th>WindSpeed3pm</th>\n",
              "      <th>Humidity9am</th>\n",
              "      <th>Humidity3pm</th>\n",
              "      <th>Pressure9am</th>\n",
              "      <th>Pressure3pm</th>\n",
              "      <th>Cloud9am</th>\n",
              "      <th>Cloud3pm</th>\n",
              "      <th>Temp9am</th>\n",
              "      <th>Temp3pm</th>\n",
              "    </tr>\n",
              "  </thead>\n",
              "  <tbody>\n",
              "    <tr>\n",
              "      <th>count</th>\n",
              "      <td>9299.000000</td>\n",
              "      <td>9299.000000</td>\n",
              "      <td>9299.000000</td>\n",
              "      <td>9299.000000</td>\n",
              "      <td>9299.000000</td>\n",
              "      <td>9299.000000</td>\n",
              "      <td>9299.000000</td>\n",
              "      <td>9299.000000</td>\n",
              "      <td>9299.000000</td>\n",
              "      <td>9299.000000</td>\n",
              "      <td>9299.000000</td>\n",
              "      <td>9299.000000</td>\n",
              "      <td>9299.000000</td>\n",
              "      <td>9299.000000</td>\n",
              "      <td>9299.000000</td>\n",
              "      <td>9299.000000</td>\n",
              "      <td>9299.000000</td>\n",
              "    </tr>\n",
              "    <tr>\n",
              "      <th>mean</th>\n",
              "      <td>1585.954941</td>\n",
              "      <td>12.166663</td>\n",
              "      <td>23.184461</td>\n",
              "      <td>1.938961</td>\n",
              "      <td>4.950629</td>\n",
              "      <td>8.044876</td>\n",
              "      <td>39.212388</td>\n",
              "      <td>13.783095</td>\n",
              "      <td>18.480267</td>\n",
              "      <td>69.148403</td>\n",
              "      <td>51.540488</td>\n",
              "      <td>1017.837391</td>\n",
              "      <td>1015.442553</td>\n",
              "      <td>4.658243</td>\n",
              "      <td>4.719862</td>\n",
              "      <td>16.918507</td>\n",
              "      <td>21.623884</td>\n",
              "    </tr>\n",
              "    <tr>\n",
              "      <th>std</th>\n",
              "      <td>906.852207</td>\n",
              "      <td>6.072514</td>\n",
              "      <td>6.631962</td>\n",
              "      <td>5.571291</td>\n",
              "      <td>2.554095</td>\n",
              "      <td>2.737342</td>\n",
              "      <td>12.068197</td>\n",
              "      <td>8.410087</td>\n",
              "      <td>8.301943</td>\n",
              "      <td>18.051423</td>\n",
              "      <td>19.753823</td>\n",
              "      <td>6.300215</td>\n",
              "      <td>6.228559</td>\n",
              "      <td>2.274691</td>\n",
              "      <td>2.091868</td>\n",
              "      <td>6.079424</td>\n",
              "      <td>6.404986</td>\n",
              "    </tr>\n",
              "    <tr>\n",
              "      <th>min</th>\n",
              "      <td>-98.000000</td>\n",
              "      <td>-2.900000</td>\n",
              "      <td>4.700000</td>\n",
              "      <td>0.000000</td>\n",
              "      <td>0.200000</td>\n",
              "      <td>0.000000</td>\n",
              "      <td>13.000000</td>\n",
              "      <td>0.000000</td>\n",
              "      <td>0.000000</td>\n",
              "      <td>13.000000</td>\n",
              "      <td>6.000000</td>\n",
              "      <td>998.200000</td>\n",
              "      <td>995.800000</td>\n",
              "      <td>0.000000</td>\n",
              "      <td>0.000000</td>\n",
              "      <td>0.700000</td>\n",
              "      <td>3.400000</td>\n",
              "    </tr>\n",
              "    <tr>\n",
              "      <th>25%</th>\n",
              "      <td>779.500000</td>\n",
              "      <td>7.800000</td>\n",
              "      <td>18.300000</td>\n",
              "      <td>0.000000</td>\n",
              "      <td>4.000000</td>\n",
              "      <td>8.300000</td>\n",
              "      <td>31.000000</td>\n",
              "      <td>7.000000</td>\n",
              "      <td>13.000000</td>\n",
              "      <td>57.000000</td>\n",
              "      <td>38.000000</td>\n",
              "      <td>1013.950000</td>\n",
              "      <td>1011.500000</td>\n",
              "      <td>3.000000</td>\n",
              "      <td>4.000000</td>\n",
              "      <td>12.500000</td>\n",
              "      <td>16.900000</td>\n",
              "    </tr>\n",
              "    <tr>\n",
              "      <th>50%</th>\n",
              "      <td>1643.000000</td>\n",
              "      <td>12.100000</td>\n",
              "      <td>22.600000</td>\n",
              "      <td>0.000000</td>\n",
              "      <td>4.600000</td>\n",
              "      <td>8.500000</td>\n",
              "      <td>37.000000</td>\n",
              "      <td>13.000000</td>\n",
              "      <td>17.000000</td>\n",
              "      <td>70.000000</td>\n",
              "      <td>52.000000</td>\n",
              "      <td>1017.800000</td>\n",
              "      <td>1015.400000</td>\n",
              "      <td>5.000000</td>\n",
              "      <td>5.000000</td>\n",
              "      <td>16.600000</td>\n",
              "      <td>21.100000</td>\n",
              "    </tr>\n",
              "    <tr>\n",
              "      <th>75%</th>\n",
              "      <td>2384.000000</td>\n",
              "      <td>16.500000</td>\n",
              "      <td>27.900000</td>\n",
              "      <td>0.600000</td>\n",
              "      <td>5.200000</td>\n",
              "      <td>8.600000</td>\n",
              "      <td>46.000000</td>\n",
              "      <td>19.000000</td>\n",
              "      <td>24.000000</td>\n",
              "      <td>82.000000</td>\n",
              "      <td>65.000000</td>\n",
              "      <td>1021.900000</td>\n",
              "      <td>1019.500000</td>\n",
              "      <td>6.000000</td>\n",
              "      <td>6.000000</td>\n",
              "      <td>21.100000</td>\n",
              "      <td>25.900000</td>\n",
              "    </tr>\n",
              "    <tr>\n",
              "      <th>max</th>\n",
              "      <td>3112.000000</td>\n",
              "      <td>26.600000</td>\n",
              "      <td>41.800000</td>\n",
              "      <td>51.400000</td>\n",
              "      <td>21.600000</td>\n",
              "      <td>13.500000</td>\n",
              "      <td>87.000000</td>\n",
              "      <td>44.000000</td>\n",
              "      <td>46.000000</td>\n",
              "      <td>100.000000</td>\n",
              "      <td>99.000000</td>\n",
              "      <td>1034.900000</td>\n",
              "      <td>1032.700000</td>\n",
              "      <td>8.000000</td>\n",
              "      <td>8.000000</td>\n",
              "      <td>32.400000</td>\n",
              "      <td>40.500000</td>\n",
              "    </tr>\n",
              "  </tbody>\n",
              "</table>\n",
              "</div>\n",
              "      <button class=\"colab-df-convert\" onclick=\"convertToInteractive('df-c6107aca-c8bb-4d10-b314-5695e338ed52')\"\n",
              "              title=\"Convert this dataframe to an interactive table.\"\n",
              "              style=\"display:none;\">\n",
              "        \n",
              "  <svg xmlns=\"http://www.w3.org/2000/svg\" height=\"24px\"viewBox=\"0 0 24 24\"\n",
              "       width=\"24px\">\n",
              "    <path d=\"M0 0h24v24H0V0z\" fill=\"none\"/>\n",
              "    <path d=\"M18.56 5.44l.94 2.06.94-2.06 2.06-.94-2.06-.94-.94-2.06-.94 2.06-2.06.94zm-11 1L8.5 8.5l.94-2.06 2.06-.94-2.06-.94L8.5 2.5l-.94 2.06-2.06.94zm10 10l.94 2.06.94-2.06 2.06-.94-2.06-.94-.94-2.06-.94 2.06-2.06.94z\"/><path d=\"M17.41 7.96l-1.37-1.37c-.4-.4-.92-.59-1.43-.59-.52 0-1.04.2-1.43.59L10.3 9.45l-7.72 7.72c-.78.78-.78 2.05 0 2.83L4 21.41c.39.39.9.59 1.41.59.51 0 1.02-.2 1.41-.59l7.78-7.78 2.81-2.81c.8-.78.8-2.07 0-2.86zM5.41 20L4 18.59l7.72-7.72 1.47 1.35L5.41 20z\"/>\n",
              "  </svg>\n",
              "      </button>\n",
              "      \n",
              "  <style>\n",
              "    .colab-df-container {\n",
              "      display:flex;\n",
              "      flex-wrap:wrap;\n",
              "      gap: 12px;\n",
              "    }\n",
              "\n",
              "    .colab-df-convert {\n",
              "      background-color: #E8F0FE;\n",
              "      border: none;\n",
              "      border-radius: 50%;\n",
              "      cursor: pointer;\n",
              "      display: none;\n",
              "      fill: #1967D2;\n",
              "      height: 32px;\n",
              "      padding: 0 0 0 0;\n",
              "      width: 32px;\n",
              "    }\n",
              "\n",
              "    .colab-df-convert:hover {\n",
              "      background-color: #E2EBFA;\n",
              "      box-shadow: 0px 1px 2px rgba(60, 64, 67, 0.3), 0px 1px 3px 1px rgba(60, 64, 67, 0.15);\n",
              "      fill: #174EA6;\n",
              "    }\n",
              "\n",
              "    [theme=dark] .colab-df-convert {\n",
              "      background-color: #3B4455;\n",
              "      fill: #D2E3FC;\n",
              "    }\n",
              "\n",
              "    [theme=dark] .colab-df-convert:hover {\n",
              "      background-color: #434B5C;\n",
              "      box-shadow: 0px 1px 3px 1px rgba(0, 0, 0, 0.15);\n",
              "      filter: drop-shadow(0px 1px 2px rgba(0, 0, 0, 0.3));\n",
              "      fill: #FFFFFF;\n",
              "    }\n",
              "  </style>\n",
              "\n",
              "      <script>\n",
              "        const buttonEl =\n",
              "          document.querySelector('#df-c6107aca-c8bb-4d10-b314-5695e338ed52 button.colab-df-convert');\n",
              "        buttonEl.style.display =\n",
              "          google.colab.kernel.accessAllowed ? 'block' : 'none';\n",
              "\n",
              "        async function convertToInteractive(key) {\n",
              "          const element = document.querySelector('#df-c6107aca-c8bb-4d10-b314-5695e338ed52');\n",
              "          const dataTable =\n",
              "            await google.colab.kernel.invokeFunction('convertToInteractive',\n",
              "                                                     [key], {});\n",
              "          if (!dataTable) return;\n",
              "\n",
              "          const docLinkHtml = 'Like what you see? Visit the ' +\n",
              "            '<a target=\"_blank\" href=https://colab.research.google.com/notebooks/data_table.ipynb>data table notebook</a>'\n",
              "            + ' to learn more about interactive tables.';\n",
              "          element.innerHTML = '';\n",
              "          dataTable['output_type'] = 'display_data';\n",
              "          await google.colab.output.renderOutput(dataTable, element);\n",
              "          const docLink = document.createElement('div');\n",
              "          docLink.innerHTML = docLinkHtml;\n",
              "          element.appendChild(docLink);\n",
              "        }\n",
              "      </script>\n",
              "    </div>\n",
              "  </div>\n",
              "  "
            ],
            "text/plain": [
              "              Date      MinTemp  ...      Temp9am      Temp3pm\n",
              "count  9299.000000  9299.000000  ...  9299.000000  9299.000000\n",
              "mean   1585.954941    12.166663  ...    16.918507    21.623884\n",
              "std     906.852207     6.072514  ...     6.079424     6.404986\n",
              "min     -98.000000    -2.900000  ...     0.700000     3.400000\n",
              "25%     779.500000     7.800000  ...    12.500000    16.900000\n",
              "50%    1643.000000    12.100000  ...    16.600000    21.100000\n",
              "75%    2384.000000    16.500000  ...    21.100000    25.900000\n",
              "max    3112.000000    26.600000  ...    32.400000    40.500000\n",
              "\n",
              "[8 rows x 17 columns]"
            ]
          },
          "metadata": {},
          "execution_count": 27
        }
      ],
      "source": [
        "data_numerical = data[numerical_columns]\n",
        "data_numerical.describe()"
      ],
      "id": "kUyJXKPh8-4J"
    },
    {
      "cell_type": "code",
      "execution_count": 28,
      "metadata": {
        "colab": {
          "base_uri": "https://localhost:8080/",
          "height": 451
        },
        "id": "MXzEc0368xpn",
        "outputId": "11dcf9f9-6795-4b32-8e96-c7999f2d2359"
      },
      "outputs": [
        {
          "output_type": "execute_result",
          "data": {
            "text/html": [
              "\n",
              "  <div id=\"df-a54925fa-9b99-461b-bb18-6196c33a6791\">\n",
              "    <div class=\"colab-df-container\">\n",
              "      <div>\n",
              "<style scoped>\n",
              "    .dataframe tbody tr th:only-of-type {\n",
              "        vertical-align: middle;\n",
              "    }\n",
              "\n",
              "    .dataframe tbody tr th {\n",
              "        vertical-align: top;\n",
              "    }\n",
              "\n",
              "    .dataframe thead th {\n",
              "        text-align: right;\n",
              "    }\n",
              "</style>\n",
              "<table border=\"1\" class=\"dataframe\">\n",
              "  <thead>\n",
              "    <tr style=\"text-align: right;\">\n",
              "      <th></th>\n",
              "      <th>Date</th>\n",
              "      <th>MinTemp</th>\n",
              "      <th>MaxTemp</th>\n",
              "      <th>Rainfall</th>\n",
              "      <th>Evaporation</th>\n",
              "      <th>Sunshine</th>\n",
              "      <th>WindGustSpeed</th>\n",
              "      <th>WindSpeed9am</th>\n",
              "      <th>WindSpeed3pm</th>\n",
              "      <th>Humidity9am</th>\n",
              "      <th>Humidity3pm</th>\n",
              "      <th>Pressure9am</th>\n",
              "      <th>Pressure3pm</th>\n",
              "      <th>Cloud9am</th>\n",
              "      <th>Cloud3pm</th>\n",
              "      <th>Temp9am</th>\n",
              "      <th>Temp3pm</th>\n",
              "    </tr>\n",
              "  </thead>\n",
              "  <tbody>\n",
              "    <tr>\n",
              "      <th>count</th>\n",
              "      <td>9.299000e+03</td>\n",
              "      <td>9.299000e+03</td>\n",
              "      <td>9.299000e+03</td>\n",
              "      <td>9.299000e+03</td>\n",
              "      <td>9.299000e+03</td>\n",
              "      <td>9.299000e+03</td>\n",
              "      <td>9.299000e+03</td>\n",
              "      <td>9.299000e+03</td>\n",
              "      <td>9.299000e+03</td>\n",
              "      <td>9.299000e+03</td>\n",
              "      <td>9.299000e+03</td>\n",
              "      <td>9.299000e+03</td>\n",
              "      <td>9.299000e+03</td>\n",
              "      <td>9.299000e+03</td>\n",
              "      <td>9.299000e+03</td>\n",
              "      <td>9.299000e+03</td>\n",
              "      <td>9.299000e+03</td>\n",
              "    </tr>\n",
              "    <tr>\n",
              "      <th>mean</th>\n",
              "      <td>8.957956e-17</td>\n",
              "      <td>-3.874498e-15</td>\n",
              "      <td>-3.365746e-15</td>\n",
              "      <td>-2.181656e-15</td>\n",
              "      <td>1.461591e-13</td>\n",
              "      <td>-6.961196e-15</td>\n",
              "      <td>-2.030912e-16</td>\n",
              "      <td>3.766031e-16</td>\n",
              "      <td>1.859883e-16</td>\n",
              "      <td>-6.041218e-16</td>\n",
              "      <td>-2.168153e-16</td>\n",
              "      <td>7.480270e-13</td>\n",
              "      <td>-2.708848e-12</td>\n",
              "      <td>-3.762897e-16</td>\n",
              "      <td>2.931065e-16</td>\n",
              "      <td>-7.300991e-15</td>\n",
              "      <td>-2.090815e-14</td>\n",
              "    </tr>\n",
              "    <tr>\n",
              "      <th>std</th>\n",
              "      <td>1.000000e+00</td>\n",
              "      <td>1.000000e+00</td>\n",
              "      <td>1.000000e+00</td>\n",
              "      <td>1.000000e+00</td>\n",
              "      <td>1.000000e+00</td>\n",
              "      <td>1.000000e+00</td>\n",
              "      <td>1.000000e+00</td>\n",
              "      <td>1.000000e+00</td>\n",
              "      <td>1.000000e+00</td>\n",
              "      <td>1.000000e+00</td>\n",
              "      <td>1.000000e+00</td>\n",
              "      <td>1.000000e+00</td>\n",
              "      <td>1.000000e+00</td>\n",
              "      <td>1.000000e+00</td>\n",
              "      <td>1.000000e+00</td>\n",
              "      <td>1.000000e+00</td>\n",
              "      <td>1.000000e+00</td>\n",
              "    </tr>\n",
              "    <tr>\n",
              "      <th>min</th>\n",
              "      <td>-1.856923e+00</td>\n",
              "      <td>-2.481124e+00</td>\n",
              "      <td>-2.787178e+00</td>\n",
              "      <td>-3.480273e-01</td>\n",
              "      <td>-1.860005e+00</td>\n",
              "      <td>-2.938937e+00</td>\n",
              "      <td>-2.172022e+00</td>\n",
              "      <td>-1.638877e+00</td>\n",
              "      <td>-2.226017e+00</td>\n",
              "      <td>-3.110470e+00</td>\n",
              "      <td>-2.305401e+00</td>\n",
              "      <td>-3.116940e+00</td>\n",
              "      <td>-3.153627e+00</td>\n",
              "      <td>-2.047857e+00</td>\n",
              "      <td>-2.256290e+00</td>\n",
              "      <td>-2.667770e+00</td>\n",
              "      <td>-2.845265e+00</td>\n",
              "    </tr>\n",
              "    <tr>\n",
              "      <th>25%</th>\n",
              "      <td>-8.892904e-01</td>\n",
              "      <td>-7.190865e-01</td>\n",
              "      <td>-7.365031e-01</td>\n",
              "      <td>-3.480273e-01</td>\n",
              "      <td>-3.721980e-01</td>\n",
              "      <td>9.320145e-02</td>\n",
              "      <td>-6.804984e-01</td>\n",
              "      <td>-8.065428e-01</td>\n",
              "      <td>-6.601186e-01</td>\n",
              "      <td>-6.729887e-01</td>\n",
              "      <td>-6.854616e-01</td>\n",
              "      <td>-6.170251e-01</td>\n",
              "      <td>-6.329800e-01</td>\n",
              "      <td>-7.289969e-01</td>\n",
              "      <td>-3.441241e-01</td>\n",
              "      <td>-7.267970e-01</td>\n",
              "      <td>-7.375324e-01</td>\n",
              "    </tr>\n",
              "    <tr>\n",
              "      <th>50%</th>\n",
              "      <td>6.290447e-02</td>\n",
              "      <td>-1.097784e-02</td>\n",
              "      <td>-8.812787e-02</td>\n",
              "      <td>-3.480273e-01</td>\n",
              "      <td>-1.372811e-01</td>\n",
              "      <td>1.662650e-01</td>\n",
              "      <td>-1.833239e-01</td>\n",
              "      <td>-9.311377e-02</td>\n",
              "      <td>-1.783036e-01</td>\n",
              "      <td>4.717617e-02</td>\n",
              "      <td>2.326192e-02</td>\n",
              "      <td>-5.934895e-03</td>\n",
              "      <td>-6.831912e-03</td>\n",
              "      <td>1.502433e-01</td>\n",
              "      <td>1.339174e-01</td>\n",
              "      <td>-5.239104e-02</td>\n",
              "      <td>-8.179320e-02</td>\n",
              "    </tr>\n",
              "    <tr>\n",
              "      <th>75%</th>\n",
              "      <td>8.800167e-01</td>\n",
              "      <td>7.135985e-01</td>\n",
              "      <td>7.110323e-01</td>\n",
              "      <td>-2.403323e-01</td>\n",
              "      <td>9.763570e-02</td>\n",
              "      <td>2.027968e-01</td>\n",
              "      <td>5.624379e-01</td>\n",
              "      <td>6.203152e-01</td>\n",
              "      <td>6.648725e-01</td>\n",
              "      <td>7.119437e-01</td>\n",
              "      <td>6.813624e-01</td>\n",
              "      <td>6.448365e-01</td>\n",
              "      <td>6.514263e-01</td>\n",
              "      <td>5.898635e-01</td>\n",
              "      <td>6.119590e-01</td>\n",
              "      <td>6.878106e-01</td>\n",
              "      <td>6.676230e-01</td>\n",
              "    </tr>\n",
              "    <tr>\n",
              "      <th>max</th>\n",
              "      <td>1.682794e+00</td>\n",
              "      <td>2.376830e+00</td>\n",
              "      <td>2.806943e+00</td>\n",
              "      <td>8.877842e+00</td>\n",
              "      <td>6.518696e+00</td>\n",
              "      <td>1.992855e+00</td>\n",
              "      <td>3.959797e+00</td>\n",
              "      <td>3.592936e+00</td>\n",
              "      <td>3.314855e+00</td>\n",
              "      <td>1.709095e+00</td>\n",
              "      <td>2.402548e+00</td>\n",
              "      <td>2.708258e+00</td>\n",
              "      <td>2.770697e+00</td>\n",
              "      <td>1.469104e+00</td>\n",
              "      <td>1.568042e+00</td>\n",
              "      <td>2.546539e+00</td>\n",
              "      <td>2.947097e+00</td>\n",
              "    </tr>\n",
              "  </tbody>\n",
              "</table>\n",
              "</div>\n",
              "      <button class=\"colab-df-convert\" onclick=\"convertToInteractive('df-a54925fa-9b99-461b-bb18-6196c33a6791')\"\n",
              "              title=\"Convert this dataframe to an interactive table.\"\n",
              "              style=\"display:none;\">\n",
              "        \n",
              "  <svg xmlns=\"http://www.w3.org/2000/svg\" height=\"24px\"viewBox=\"0 0 24 24\"\n",
              "       width=\"24px\">\n",
              "    <path d=\"M0 0h24v24H0V0z\" fill=\"none\"/>\n",
              "    <path d=\"M18.56 5.44l.94 2.06.94-2.06 2.06-.94-2.06-.94-.94-2.06-.94 2.06-2.06.94zm-11 1L8.5 8.5l.94-2.06 2.06-.94-2.06-.94L8.5 2.5l-.94 2.06-2.06.94zm10 10l.94 2.06.94-2.06 2.06-.94-2.06-.94-.94-2.06-.94 2.06-2.06.94z\"/><path d=\"M17.41 7.96l-1.37-1.37c-.4-.4-.92-.59-1.43-.59-.52 0-1.04.2-1.43.59L10.3 9.45l-7.72 7.72c-.78.78-.78 2.05 0 2.83L4 21.41c.39.39.9.59 1.41.59.51 0 1.02-.2 1.41-.59l7.78-7.78 2.81-2.81c.8-.78.8-2.07 0-2.86zM5.41 20L4 18.59l7.72-7.72 1.47 1.35L5.41 20z\"/>\n",
              "  </svg>\n",
              "      </button>\n",
              "      \n",
              "  <style>\n",
              "    .colab-df-container {\n",
              "      display:flex;\n",
              "      flex-wrap:wrap;\n",
              "      gap: 12px;\n",
              "    }\n",
              "\n",
              "    .colab-df-convert {\n",
              "      background-color: #E8F0FE;\n",
              "      border: none;\n",
              "      border-radius: 50%;\n",
              "      cursor: pointer;\n",
              "      display: none;\n",
              "      fill: #1967D2;\n",
              "      height: 32px;\n",
              "      padding: 0 0 0 0;\n",
              "      width: 32px;\n",
              "    }\n",
              "\n",
              "    .colab-df-convert:hover {\n",
              "      background-color: #E2EBFA;\n",
              "      box-shadow: 0px 1px 2px rgba(60, 64, 67, 0.3), 0px 1px 3px 1px rgba(60, 64, 67, 0.15);\n",
              "      fill: #174EA6;\n",
              "    }\n",
              "\n",
              "    [theme=dark] .colab-df-convert {\n",
              "      background-color: #3B4455;\n",
              "      fill: #D2E3FC;\n",
              "    }\n",
              "\n",
              "    [theme=dark] .colab-df-convert:hover {\n",
              "      background-color: #434B5C;\n",
              "      box-shadow: 0px 1px 3px 1px rgba(0, 0, 0, 0.15);\n",
              "      filter: drop-shadow(0px 1px 2px rgba(0, 0, 0, 0.3));\n",
              "      fill: #FFFFFF;\n",
              "    }\n",
              "  </style>\n",
              "\n",
              "      <script>\n",
              "        const buttonEl =\n",
              "          document.querySelector('#df-a54925fa-9b99-461b-bb18-6196c33a6791 button.colab-df-convert');\n",
              "        buttonEl.style.display =\n",
              "          google.colab.kernel.accessAllowed ? 'block' : 'none';\n",
              "\n",
              "        async function convertToInteractive(key) {\n",
              "          const element = document.querySelector('#df-a54925fa-9b99-461b-bb18-6196c33a6791');\n",
              "          const dataTable =\n",
              "            await google.colab.kernel.invokeFunction('convertToInteractive',\n",
              "                                                     [key], {});\n",
              "          if (!dataTable) return;\n",
              "\n",
              "          const docLinkHtml = 'Like what you see? Visit the ' +\n",
              "            '<a target=\"_blank\" href=https://colab.research.google.com/notebooks/data_table.ipynb>data table notebook</a>'\n",
              "            + ' to learn more about interactive tables.';\n",
              "          element.innerHTML = '';\n",
              "          dataTable['output_type'] = 'display_data';\n",
              "          await google.colab.output.renderOutput(dataTable, element);\n",
              "          const docLink = document.createElement('div');\n",
              "          docLink.innerHTML = docLinkHtml;\n",
              "          element.appendChild(docLink);\n",
              "        }\n",
              "      </script>\n",
              "    </div>\n",
              "  </div>\n",
              "  "
            ],
            "text/plain": [
              "               Date       MinTemp  ...       Temp9am       Temp3pm\n",
              "count  9.299000e+03  9.299000e+03  ...  9.299000e+03  9.299000e+03\n",
              "mean   8.957956e-17 -3.874498e-15  ... -7.300991e-15 -2.090815e-14\n",
              "std    1.000000e+00  1.000000e+00  ...  1.000000e+00  1.000000e+00\n",
              "min   -1.856923e+00 -2.481124e+00  ... -2.667770e+00 -2.845265e+00\n",
              "25%   -8.892904e-01 -7.190865e-01  ... -7.267970e-01 -7.375324e-01\n",
              "50%    6.290447e-02 -1.097784e-02  ... -5.239104e-02 -8.179320e-02\n",
              "75%    8.800167e-01  7.135985e-01  ...  6.878106e-01  6.676230e-01\n",
              "max    1.682794e+00  2.376830e+00  ...  2.546539e+00  2.947097e+00\n",
              "\n",
              "[8 rows x 17 columns]"
            ]
          },
          "metadata": {},
          "execution_count": 28
        }
      ],
      "source": [
        "data_numerical = (data_numerical - data_numerical.mean(axis = 0))/data_numerical.std(axis = 0)\n",
        "data_numerical.describe()"
      ],
      "id": "MXzEc0368xpn"
    },
    {
      "cell_type": "markdown",
      "metadata": {
        "id": "6wTyodz_9E_f"
      },
      "source": [
        "## Соединяем все в одну таблицу"
      ],
      "id": "6wTyodz_9E_f"
    },
    {
      "cell_type": "code",
      "execution_count": 29,
      "metadata": {
        "colab": {
          "base_uri": "https://localhost:8080/"
        },
        "id": "u2Dfs9bw9F1h",
        "outputId": "ae48910f-66a2-4741-f7ca-dd7c170574a5"
      },
      "outputs": [
        {
          "output_type": "stream",
          "name": "stdout",
          "text": [
            "(9299, 116)\n"
          ]
        }
      ],
      "source": [
        "data = pd.concat((data_numerical, data_nonbinary, data[binary_columns]), axis = 1)\n",
        "print(data.shape)"
      ],
      "id": "u2Dfs9bw9F1h"
    },
    {
      "cell_type": "markdown",
      "metadata": {
        "id": "7u4xnnRMCA8I"
      },
      "source": [
        "## Разбиение данных на обучающую и тестовую выборки"
      ],
      "id": "7u4xnnRMCA8I"
    },
    {
      "cell_type": "markdown",
      "metadata": {
        "id": "kW87lVtOCmF7"
      },
      "source": [
        "Для предсказания будем использовать все признаки."
      ],
      "id": "kW87lVtOCmF7"
    },
    {
      "cell_type": "code",
      "execution_count": 30,
      "metadata": {
        "id": "UEeEY1J4CqIZ"
      },
      "outputs": [],
      "source": [
        "X = data.drop('RainTomorrow', axis = 1)\n",
        "y = data['RainTomorrow']"
      ],
      "id": "UEeEY1J4CqIZ"
    },
    {
      "cell_type": "markdown",
      "metadata": {
        "id": "tg58KRj-CK-4"
      },
      "source": [
        "Разобьем данные на обучающую и тестовую выборки в пропорции 2:1 (67% - обучающая выборка, 33% - тестовая):"
      ],
      "id": "tg58KRj-CK-4"
    },
    {
      "cell_type": "code",
      "execution_count": 31,
      "metadata": {
        "id": "QAIe14USCPX4"
      },
      "outputs": [],
      "source": [
        "from sklearn.model_selection import train_test_split\n",
        "X_train, X_test, y_train, y_test = train_test_split(X, y, test_size = 0.33, random_state = 7)\n",
        "N_test, _ = X_test.shape"
      ],
      "id": "QAIe14USCPX4"
    },
    {
      "cell_type": "markdown",
      "source": [
        "### Обучаем классификатор"
      ],
      "metadata": {
        "id": "wwaADXPW-5gA"
      },
      "id": "wwaADXPW-5gA"
    },
    {
      "cell_type": "code",
      "source": [
        "from sklearn.neural_network import MLPClassifier"
      ],
      "metadata": {
        "id": "ZRUGdiby-47p"
      },
      "id": "ZRUGdiby-47p",
      "execution_count": 32,
      "outputs": []
    },
    {
      "cell_type": "code",
      "source": [
        "mlp_model = MLPClassifier(hidden_layer_sizes = (100,),\n",
        "                          solver = 'lbfgs', \n",
        "                          activation = 'logistic',\n",
        "                          random_state = 42)"
      ],
      "metadata": {
        "id": "o__h05tTGsN4"
      },
      "id": "o__h05tTGsN4",
      "execution_count": 33,
      "outputs": []
    },
    {
      "cell_type": "code",
      "source": [
        "%%time\n",
        "mlp_model.fit(X_train, y_train)"
      ],
      "metadata": {
        "colab": {
          "base_uri": "https://localhost:8080/"
        },
        "id": "_b4UYPu8GvR4",
        "outputId": "9447d90e-0f4d-4711-bd58-1a32f885de98"
      },
      "id": "_b4UYPu8GvR4",
      "execution_count": 34,
      "outputs": [
        {
          "output_type": "stream",
          "name": "stdout",
          "text": [
            "CPU times: user 14.4 s, sys: 14 s, total: 28.4 s\n",
            "Wall time: 14.6 s\n"
          ]
        },
        {
          "output_type": "execute_result",
          "data": {
            "text/plain": [
              "MLPClassifier(activation='logistic', random_state=42, solver='lbfgs')"
            ]
          },
          "metadata": {},
          "execution_count": 34
        }
      ]
    },
    {
      "cell_type": "markdown",
      "source": [
        "### Проверяем качество классификатора"
      ],
      "metadata": {
        "id": "ncx1tIq3_Hsb"
      },
      "id": "ncx1tIq3_Hsb"
    },
    {
      "cell_type": "code",
      "source": [
        "y_train_pred = mlp_model.predict(X_train)\n",
        "y_test_pred = mlp_model.predict(X_test)"
      ],
      "metadata": {
        "id": "Wzqj5bgHAC9a"
      },
      "id": "Wzqj5bgHAC9a",
      "execution_count": 35,
      "outputs": []
    },
    {
      "cell_type": "code",
      "source": [
        "from sklearn.metrics import accuracy_score"
      ],
      "metadata": {
        "id": "Q_IJ1riC_IWP"
      },
      "id": "Q_IJ1riC_IWP",
      "execution_count": 36,
      "outputs": []
    },
    {
      "cell_type": "code",
      "source": [
        "accuracy_score(y_train, y_train_pred)"
      ],
      "metadata": {
        "colab": {
          "base_uri": "https://localhost:8080/"
        },
        "id": "PKWa3mhy_OKI",
        "outputId": "48477435-fe0f-4543-9a25-3b45c83f8682"
      },
      "id": "PKWa3mhy_OKI",
      "execution_count": 37,
      "outputs": [
        {
          "output_type": "execute_result",
          "data": {
            "text/plain": [
              "1.0"
            ]
          },
          "metadata": {},
          "execution_count": 37
        }
      ]
    },
    {
      "cell_type": "code",
      "source": [
        "accuracy_score(y_test, y_test_pred)"
      ],
      "metadata": {
        "colab": {
          "base_uri": "https://localhost:8080/"
        },
        "id": "ELf5amy8_QAo",
        "outputId": "44bba9b8-e79e-484e-9a33-b74ed84ebf88"
      },
      "id": "ELf5amy8_QAo",
      "execution_count": 38,
      "outputs": [
        {
          "output_type": "execute_result",
          "data": {
            "text/plain": [
              "0.7914630172694689"
            ]
          },
          "metadata": {},
          "execution_count": 38
        }
      ]
    },
    {
      "cell_type": "markdown",
      "source": [
        "### Подбор _гипер_параметров\n",
        "\n",
        "Подберем _оптимальное_ значение параметра регуляризации `alpha`"
      ],
      "metadata": {
        "id": "6x83OEe_HDSN"
      },
      "id": "6x83OEe_HDSN"
    },
    {
      "cell_type": "code",
      "source": [
        "alpha_arr = np.logspace(-3, 2, 21)\n",
        "test_err = []\n",
        "train_err = []\n",
        "train_acc = []\n",
        "test_acc = []\n",
        "\n",
        "iterations = 0\n",
        "for alpha in alpha_arr:\n",
        "    mlp_model = MLPClassifier(alpha = alpha, hidden_layer_sizes = (100,), \n",
        "                              solver = 'lbfgs', activation = 'logistic', max_iter=2000, random_state = 42)\n",
        "    mlp_model.fit(X_train, y_train)\n",
        "\n",
        "    y_train_pred = mlp_model.predict(X_train)\n",
        "    y_test_pred = mlp_model.predict(X_test)\n",
        "    \n",
        "    train_err.append(np.mean(y_train != y_train_pred))\n",
        "    test_err.append(np.mean(y_test != y_test_pred))\n",
        "    train_acc.append(accuracy_score(y_train, y_train_pred))\n",
        "    test_acc.append(accuracy_score(y_test, y_test_pred))\n",
        "    iterations += 1\n",
        "    print(iterations)"
      ],
      "metadata": {
        "colab": {
          "base_uri": "https://localhost:8080/"
        },
        "id": "s0Ic9zc3HGo5",
        "outputId": "93d74c3d-a3b3-4624-cf0d-23460fb8d597"
      },
      "id": "s0Ic9zc3HGo5",
      "execution_count": 44,
      "outputs": [
        {
          "output_type": "stream",
          "name": "stdout",
          "text": [
            "1\n",
            "2\n",
            "3\n",
            "4\n",
            "5\n",
            "6\n",
            "7\n",
            "8\n",
            "9\n",
            "10\n",
            "11\n",
            "12\n",
            "13\n",
            "14\n",
            "15\n",
            "16\n",
            "17\n",
            "18\n",
            "19\n",
            "20\n",
            "21\n"
          ]
        }
      ]
    },
    {
      "cell_type": "code",
      "source": [
        "print(alpha_arr)"
      ],
      "metadata": {
        "colab": {
          "base_uri": "https://localhost:8080/"
        },
        "id": "0OG249UpNtnK",
        "outputId": "fc290216-eddc-4ba1-bf2a-81004282aeed"
      },
      "id": "0OG249UpNtnK",
      "execution_count": 50,
      "outputs": [
        {
          "output_type": "stream",
          "name": "stdout",
          "text": [
            "[1.00000000e-03 1.77827941e-03 3.16227766e-03 5.62341325e-03\n",
            " 1.00000000e-02 1.77827941e-02 3.16227766e-02 5.62341325e-02\n",
            " 1.00000000e-01 1.77827941e-01 3.16227766e-01 5.62341325e-01\n",
            " 1.00000000e+00 1.77827941e+00 3.16227766e+00 5.62341325e+00\n",
            " 1.00000000e+01 1.77827941e+01 3.16227766e+01 5.62341325e+01\n",
            " 1.00000000e+02]\n"
          ]
        }
      ]
    },
    {
      "cell_type": "code",
      "source": [
        "plt.semilogx(alpha_arr, train_err, 'b-o', label = 'train')\n",
        "plt.semilogx(alpha_arr, test_err, 'r-o', label = 'test')\n",
        "plt.xlim([np.min(alpha_arr), np.max(alpha_arr)])\n",
        "plt.title('Error vs. alpha')\n",
        "plt.xlabel('alpha')\n",
        "plt.ylabel('error')\n",
        "plt.legend()"
      ],
      "metadata": {
        "colab": {
          "base_uri": "https://localhost:8080/",
          "height": 316
        },
        "id": "HS9GNJ5uK9-h",
        "outputId": "b8ac2425-d42e-4d5f-de7a-db9980669ac2"
      },
      "id": "HS9GNJ5uK9-h",
      "execution_count": 45,
      "outputs": [
        {
          "output_type": "execute_result",
          "data": {
            "text/plain": [
              "<matplotlib.legend.Legend at 0x7f12dc1a51d0>"
            ]
          },
          "metadata": {},
          "execution_count": 45
        },
        {
          "output_type": "display_data",
          "data": {
            "image/png": "[encoded data removed]",
            "text/plain": [
              "<Figure size 432x288 with 1 Axes>"
            ]
          },
          "metadata": {
            "needs_background": "light"
          }
        }
      ]
    },
    {
      "cell_type": "code",
      "source": [
        "plt.semilogx(alpha_arr, train_acc, 'r-o', label = 'train')\n",
        "plt.semilogx(alpha_arr, test_acc, 'b-o', label = 'test')\n",
        "plt.xlim([np.min(alpha_arr), np.max(alpha_arr)])\n",
        "plt.title('Accuracy vs. alpha')\n",
        "plt.xlabel('alpha')\n",
        "plt.ylabel('Accuracy')\n",
        "plt.legend()"
      ],
      "metadata": {
        "colab": {
          "base_uri": "https://localhost:8080/",
          "height": 316
        },
        "id": "9mHzA_zhK_8Z",
        "outputId": "3fcf2426-ac3d-42fe-96dc-c3a39f1d990b"
      },
      "id": "9mHzA_zhK_8Z",
      "execution_count": 46,
      "outputs": [
        {
          "output_type": "execute_result",
          "data": {
            "text/plain": [
              "<matplotlib.legend.Legend at 0x7f12dc59b2d0>"
            ]
          },
          "metadata": {},
          "execution_count": 46
        },
        {
          "output_type": "display_data",
          "data": {
            "image/png": "[encoded data removed]",
            "text/plain": [
              "<Figure size 432x288 with 1 Axes>"
            ]
          },
          "metadata": {
            "needs_background": "light"
          }
        }
      ]
    },
    {
      "cell_type": "markdown",
      "source": [
        "Минимальное значение ошибки:"
      ],
      "metadata": {
        "id": "8DRK5yV8LDjB"
      },
      "id": "8DRK5yV8LDjB"
    },
    {
      "cell_type": "code",
      "source": [
        "min_train_err = np.min(train_err)\n",
        "min_test_err = np.min(test_err)\n",
        "print(min_train_err, min_test_err)"
      ],
      "metadata": {
        "colab": {
          "base_uri": "https://localhost:8080/"
        },
        "id": "1OeAMaSnLFC4",
        "outputId": "6a046a74-fc2d-441c-a44c-af3e89b64534"
      },
      "id": "1OeAMaSnLFC4",
      "execution_count": 47,
      "outputs": [
        {
          "output_type": "stream",
          "name": "stdout",
          "text": [
            "0.0 0.15412186379928317\n"
          ]
        }
      ]
    },
    {
      "cell_type": "markdown",
      "source": [
        "Оптимальное значение `alpha`:"
      ],
      "metadata": {
        "id": "K_ryXUJJLHMJ"
      },
      "id": "K_ryXUJJLHMJ"
    },
    {
      "cell_type": "code",
      "source": [
        "alpha_opt = alpha_arr[test_err == min_test_err]\n",
        "print(alpha_opt)"
      ],
      "metadata": {
        "colab": {
          "base_uri": "https://localhost:8080/"
        },
        "id": "e48XNm-OLI4o",
        "outputId": "b46067eb-98c7-445e-b57d-005445e025ed"
      },
      "id": "e48XNm-OLI4o",
      "execution_count": 48,
      "outputs": [
        {
          "output_type": "stream",
          "name": "stdout",
          "text": [
            "[5.62341325]\n"
          ]
        }
      ]
    },
    {
      "cell_type": "code",
      "source": [
        "alpha_opt = alpha_opt[0]"
      ],
      "metadata": {
        "id": "PXEcCsFMLMAB"
      },
      "id": "PXEcCsFMLMAB",
      "execution_count": 49,
      "outputs": []
    },
    {
      "cell_type": "markdown",
      "source": [
        "### Классификатор при найденном _оптимальном_ значении `alpha`:"
      ],
      "metadata": {
        "id": "r2wNG_00LOjZ"
      },
      "id": "r2wNG_00LOjZ"
    },
    {
      "cell_type": "markdown",
      "source": [
        "Повторим обучение:"
      ],
      "metadata": {
        "id": "944zeXjhLRpc"
      },
      "id": "944zeXjhLRpc"
    },
    {
      "cell_type": "code",
      "source": [
        "mlp_model = MLPClassifier(alpha = alpha_opt, hidden_layer_sizes = (100,),\n",
        "                          solver = 'lbfgs', activation = 'logistic', max_iter=2000, random_state = 42)\n",
        "mlp_model.fit(X_train, y_train)\n",
        "\n",
        "y_train_pred = mlp_model.predict(X_train)\n",
        "y_test_pred = mlp_model.predict(X_test)\n",
        "print(np.mean(y_train != y_train_pred))\n",
        "print(np.mean(y_test != y_test_pred))"
      ],
      "metadata": {
        "colab": {
          "base_uri": "https://localhost:8080/"
        },
        "id": "vCqDV3yYLN4q",
        "outputId": "4443513f-4f61-4b82-c83d-fd242e70566e"
      },
      "id": "vCqDV3yYLN4q",
      "execution_count": 53,
      "outputs": [
        {
          "output_type": "stream",
          "name": "stdout",
          "text": [
            "0.13579454253611556\n",
            "0.15412186379928317\n"
          ]
        }
      ]
    },
    {
      "cell_type": "code",
      "source": [
        "accuracy_score(y_train, y_train_pred)"
      ],
      "metadata": {
        "colab": {
          "base_uri": "https://localhost:8080/"
        },
        "id": "EkDFTYpQO-bX",
        "outputId": "5718277a-ad35-4a89-ef7c-518ed361046d"
      },
      "id": "EkDFTYpQO-bX",
      "execution_count": 54,
      "outputs": [
        {
          "output_type": "execute_result",
          "data": {
            "text/plain": [
              "0.8642054574638844"
            ]
          },
          "metadata": {},
          "execution_count": 54
        }
      ]
    },
    {
      "cell_type": "code",
      "source": [
        "accuracy_score(y_test, y_test_pred)"
      ],
      "metadata": {
        "colab": {
          "base_uri": "https://localhost:8080/"
        },
        "id": "pXa-LFWvO-8Y",
        "outputId": "f8a8d497-47c2-4c79-e967-936e0b946d34"
      },
      "id": "pXa-LFWvO-8Y",
      "execution_count": 55,
      "outputs": [
        {
          "output_type": "execute_result",
          "data": {
            "text/plain": [
              "0.8458781362007168"
            ]
          },
          "metadata": {},
          "execution_count": 55
        }
      ]
    },
    {
      "cell_type": "markdown",
      "source": [
        "### Матрица рассогласования:"
      ],
      "metadata": {
        "id": "g_LgouHXLb-A"
      },
      "id": "g_LgouHXLb-A"
    },
    {
      "cell_type": "code",
      "source": [
        "from sklearn.metrics import plot_confusion_matrix\n",
        "plot_confusion_matrix(mlp_model, X_test, y_test) "
      ],
      "metadata": {
        "colab": {
          "base_uri": "https://localhost:8080/",
          "height": 353
        },
        "id": "iWRY2a7ULbfK",
        "outputId": "af48e681-a31e-48e6-806a-c6f384884338"
      },
      "id": "iWRY2a7ULbfK",
      "execution_count": 52,
      "outputs": [
        {
          "output_type": "stream",
          "name": "stderr",
          "text": [
            "/usr/local/lib/python3.7/dist-packages/sklearn/utils/deprecation.py:87: FutureWarning: Function plot_confusion_matrix is deprecated; Function `plot_confusion_matrix` is deprecated in 1.0 and will be removed in 1.2. Use one of the class methods: ConfusionMatrixDisplay.from_predictions or ConfusionMatrixDisplay.from_estimator.\n",
            "  warnings.warn(msg, category=FutureWarning)\n"
          ]
        },
        {
          "output_type": "execute_result",
          "data": {
            "text/plain": [
              "<sklearn.metrics._plot.confusion_matrix.ConfusionMatrixDisplay at 0x7f12dc53bc90>"
            ]
          },
          "metadata": {},
          "execution_count": 52
        },
        {
          "output_type": "display_data",
          "data": {
            "image/png": "[encoded data removed]",
            "text/plain": [
              "<Figure size 432x288 with 2 Axes>"
            ]
          },
          "metadata": {
            "needs_background": "light"
          }
        }
      ]
    },
    {
      "cell_type": "markdown",
      "source": [
        "### Подбор оптимального количества нейронов"
      ],
      "metadata": {
        "id": "PY9pjdfnP-o4"
      },
      "id": "PY9pjdfnP-o4"
    },
    {
      "cell_type": "code",
      "source": [
        "neuron_count_arr = np.linspace(10, 300, 30).astype(int)\n",
        "test_err = []\n",
        "train_err = []\n",
        "train_acc = []\n",
        "test_acc = []\n",
        "\n",
        "iterations = 0\n",
        "for neuron_count in neuron_count_arr:\n",
        "    mlp_model = MLPClassifier(alpha = alpha_opt, hidden_layer_sizes = (neuron_count,), \n",
        "                              solver = 'lbfgs', activation = 'logistic', max_iter=2000, random_state = 42)\n",
        "    mlp_model.fit(X_train, y_train)\n",
        "\n",
        "    y_train_pred = mlp_model.predict(X_train)\n",
        "    y_test_pred = mlp_model.predict(X_test)\n",
        "\n",
        "    train_err.append(np.mean(y_train != y_train_pred))\n",
        "    test_err.append(np.mean(y_test != y_test_pred))\n",
        "    train_acc.append(accuracy_score(y_train, y_train_pred))\n",
        "    test_acc.append(accuracy_score(y_test, y_test_pred))\n",
        "    iterations += 1\n",
        "    print(iterations)"
      ],
      "metadata": {
        "colab": {
          "base_uri": "https://localhost:8080/"
        },
        "id": "AGnANHyvQDN_",
        "outputId": "bdc42f70-7c5f-48e6-db7d-e831fb8bdb0e"
      },
      "id": "AGnANHyvQDN_",
      "execution_count": 97,
      "outputs": [
        {
          "output_type": "stream",
          "name": "stdout",
          "text": [
            "1\n",
            "2\n",
            "3\n",
            "4\n",
            "5\n",
            "6\n",
            "7\n",
            "8\n",
            "9\n",
            "10\n",
            "11\n",
            "12\n",
            "13\n",
            "14\n",
            "15\n",
            "16\n",
            "17\n",
            "18\n",
            "19\n",
            "20\n",
            "21\n",
            "22\n",
            "23\n",
            "24\n",
            "25\n",
            "26\n",
            "27\n",
            "28\n",
            "29\n",
            "30\n"
          ]
        }
      ]
    },
    {
      "cell_type": "markdown",
      "source": [
        "**Рассмотрим как у нас менялась метрика в зависимости от числа нейронов:**"
      ],
      "metadata": {
        "id": "V2h_uB8vTAmn"
      },
      "id": "V2h_uB8vTAmn"
    },
    {
      "cell_type": "code",
      "source": [
        "plt.plot(neuron_count_arr, train_err, 'b-o', label = 'train')\n",
        "plt.plot(neuron_count_arr, test_err, 'r-o', label = 'test')\n",
        "plt.xlim([np.min(neuron_count_arr), np.max(neuron_count_arr)])\n",
        "plt.title('Error vs. neuron count')\n",
        "plt.xlabel('neuron count')\n",
        "plt.ylabel('error')\n",
        "plt.legend()"
      ],
      "metadata": {
        "colab": {
          "base_uri": "https://localhost:8080/",
          "height": 312
        },
        "id": "Kf3zbc0UTDGA",
        "outputId": "5ac90d3d-bfc5-4055-f0ad-b3030a376bf0"
      },
      "id": "Kf3zbc0UTDGA",
      "execution_count": 98,
      "outputs": [
        {
          "output_type": "execute_result",
          "data": {
            "text/plain": [
              "<matplotlib.legend.Legend at 0x7f12db3a0d90>"
            ]
          },
          "metadata": {},
          "execution_count": 98
        },
        {
          "output_type": "display_data",
          "data": {
            "image/png": "[encoded data removed]",
            "text/plain": [
              "<Figure size 432x288 with 1 Axes>"
            ]
          },
          "metadata": {
            "needs_background": "light"
          }
        }
      ]
    },
    {
      "cell_type": "code",
      "source": [
        "plt.plot(neuron_count_arr, train_acc, 'b-o', label = 'train')\n",
        "plt.plot(neuron_count_arr, test_acc, 'r-o', label = 'test')\n",
        "plt.xlim([np.min(neuron_count_arr), np.max(neuron_count_arr)])\n",
        "plt.title('Error vs. neuron count')\n",
        "plt.xlabel('neuron count')\n",
        "plt.ylabel('error')\n",
        "plt.legend()"
      ],
      "metadata": {
        "colab": {
          "base_uri": "https://localhost:8080/",
          "height": 312
        },
        "id": "qFRqyPf9bc_y",
        "outputId": "71c9a22c-f9b4-4ee9-acc0-05dda7f7f50b"
      },
      "id": "qFRqyPf9bc_y",
      "execution_count": 100,
      "outputs": [
        {
          "output_type": "execute_result",
          "data": {
            "text/plain": [
              "<matplotlib.legend.Legend at 0x7f12db1b4990>"
            ]
          },
          "metadata": {},
          "execution_count": 100
        },
        {
          "output_type": "display_data",
          "data": {
            "image/png": "[encoded data removed]",
            "text/plain": [
              "<Figure size 432x288 with 1 Axes>"
            ]
          },
          "metadata": {
            "needs_background": "light"
          }
        }
      ]
    },
    {
      "cell_type": "markdown",
      "source": [
        "Минимальное значение ошибки:"
      ],
      "metadata": {
        "id": "msv1f6LAcUmY"
      },
      "id": "msv1f6LAcUmY"
    },
    {
      "cell_type": "code",
      "source": [
        "min_train_err = np.min(train_err)\n",
        "min_test_err = np.min(test_err)\n",
        "print(min_train_err, min_test_err)"
      ],
      "metadata": {
        "colab": {
          "base_uri": "https://localhost:8080/"
        },
        "id": "-3gXuZalcVbi",
        "outputId": "182c39b8-16c8-4d9c-f56e-2c55778029f4"
      },
      "id": "-3gXuZalcVbi",
      "execution_count": 101,
      "outputs": [
        {
          "output_type": "stream",
          "name": "stdout",
          "text": [
            "0.13547351524879614 0.15151515151515152\n"
          ]
        }
      ]
    },
    {
      "cell_type": "markdown",
      "source": [
        "Оптимальное значение количества нейронов:"
      ],
      "metadata": {
        "id": "AuUsaJEtcaix"
      },
      "id": "AuUsaJEtcaix"
    },
    {
      "cell_type": "code",
      "source": [
        "neuron_opt = neuron_count_arr[test_err == min_test_err]\n",
        "print(neuron_opt)"
      ],
      "metadata": {
        "colab": {
          "base_uri": "https://localhost:8080/"
        },
        "id": "_yC7FZuccg0E",
        "outputId": "62fb81d2-6147-4479-a381-db1528906dcb"
      },
      "id": "_yC7FZuccg0E",
      "execution_count": 102,
      "outputs": [
        {
          "output_type": "stream",
          "name": "stdout",
          "text": [
            "[30]\n"
          ]
        }
      ]
    },
    {
      "cell_type": "code",
      "source": [
        "neuron_opt = neuron_opt[0]"
      ],
      "metadata": {
        "id": "859CPI7xcv0v"
      },
      "id": "859CPI7xcv0v",
      "execution_count": 103,
      "outputs": []
    },
    {
      "cell_type": "markdown",
      "source": [
        "### Классификатор при оптимальном значении количества нейронов:"
      ],
      "metadata": {
        "id": "mhatjvR9czbF"
      },
      "id": "mhatjvR9czbF"
    },
    {
      "cell_type": "markdown",
      "source": [
        "Повторим обучение:"
      ],
      "metadata": {
        "id": "rFw2xtuec6f2"
      },
      "id": "rFw2xtuec6f2"
    },
    {
      "cell_type": "code",
      "source": [
        "mlp_model = MLPClassifier(alpha = alpha_opt, hidden_layer_sizes = (neuron_opt,), \n",
        "                              solver = 'lbfgs', activation = 'logistic', max_iter=2000, random_state = 42)\n",
        "\n",
        "mlp_model.fit(X_train, y_train)\n",
        "\n",
        "y_train_pred = mlp_model.predict(X_train)\n",
        "y_test_pred = mlp_model.predict(X_test)\n",
        "print(np.mean(y_train != y_train_pred))\n",
        "print(np.mean(y_test != y_test_pred))"
      ],
      "metadata": {
        "colab": {
          "base_uri": "https://localhost:8080/"
        },
        "id": "zL3jePdqdDIE",
        "outputId": "aebe1f70-f9d8-438d-d52a-8e5c0ab23bb4"
      },
      "id": "zL3jePdqdDIE",
      "execution_count": 104,
      "outputs": [
        {
          "output_type": "stream",
          "name": "stdout",
          "text": [
            "0.13723916532905298\n",
            "0.15151515151515152\n"
          ]
        }
      ]
    },
    {
      "cell_type": "code",
      "source": [
        "accuracy_score(y_train, y_train_pred)"
      ],
      "metadata": {
        "colab": {
          "base_uri": "https://localhost:8080/"
        },
        "id": "tVBJxZFvdQHL",
        "outputId": "cb6689fe-ae38-4027-a4d5-71a86ba92912"
      },
      "id": "tVBJxZFvdQHL",
      "execution_count": 105,
      "outputs": [
        {
          "output_type": "execute_result",
          "data": {
            "text/plain": [
              "0.862760834670947"
            ]
          },
          "metadata": {},
          "execution_count": 105
        }
      ]
    },
    {
      "cell_type": "code",
      "source": [
        "accuracy_score(y_test, y_test_pred)"
      ],
      "metadata": {
        "colab": {
          "base_uri": "https://localhost:8080/"
        },
        "id": "Mrbd1LBodQ75",
        "outputId": "80fa29ba-155e-40b2-8165-1d1f8e60b8a9"
      },
      "id": "Mrbd1LBodQ75",
      "execution_count": 106,
      "outputs": [
        {
          "output_type": "execute_result",
          "data": {
            "text/plain": [
              "0.8484848484848485"
            ]
          },
          "metadata": {},
          "execution_count": 106
        }
      ]
    },
    {
      "cell_type": "markdown",
      "source": [
        "### Матрица рассогласования:"
      ],
      "metadata": {
        "id": "ixXk7AE-dhRk"
      },
      "id": "ixXk7AE-dhRk"
    },
    {
      "cell_type": "code",
      "source": [
        "from sklearn.metrics import plot_confusion_matrix\n",
        "plot_confusion_matrix(mlp_model, X_test, y_test)"
      ],
      "metadata": {
        "colab": {
          "base_uri": "https://localhost:8080/",
          "height": 352
        },
        "id": "KxIcr9VXdnMp",
        "outputId": "c53b8b96-0211-4d10-be81-63327b34c297"
      },
      "id": "KxIcr9VXdnMp",
      "execution_count": 107,
      "outputs": [
        {
          "output_type": "stream",
          "name": "stderr",
          "text": [
            "/usr/local/lib/python3.7/dist-packages/sklearn/utils/deprecation.py:87: FutureWarning: Function plot_confusion_matrix is deprecated; Function `plot_confusion_matrix` is deprecated in 1.0 and will be removed in 1.2. Use one of the class methods: ConfusionMatrixDisplay.from_predictions or ConfusionMatrixDisplay.from_estimator.\n",
            "  warnings.warn(msg, category=FutureWarning)\n"
          ]
        },
        {
          "output_type": "execute_result",
          "data": {
            "text/plain": [
              "<sklearn.metrics._plot.confusion_matrix.ConfusionMatrixDisplay at 0x7f12db209c10>"
            ]
          },
          "metadata": {},
          "execution_count": 107
        },
        {
          "output_type": "display_data",
          "data": {
            "image/png": "[encoded data removed]",
            "text/plain": [
              "<Figure size 432x288 with 2 Axes>"
            ]
          },
          "metadata": {
            "needs_background": "light"
          }
        }
      ]
    }
  ],
  "metadata": {
    "colab": {
      "collapsed_sections": [],
      "name": "neural_network.ipynb",
      "provenance": []
    },
    "kernelspec": {
      "display_name": "Python 3",
      "language": "python",
      "name": "python3"
    },
    "language_info": {
      "codemirror_mode": {
        "name": "ipython",
        "version": 3
      },
      "file_extension": ".py",
      "mimetype": "text/x-python",
      "name": "python",
      "nbconvert_exporter": "python",
      "pygments_lexer": "ipython3",
      "version": "3.8.8"
    }
  },
  "nbformat": 4,
  "nbformat_minor": 5
}